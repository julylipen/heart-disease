{
 "cells": [
  {
   "cell_type": "code",
   "execution_count": 1,
   "metadata": {},
   "outputs": [],
   "source": [
    "import pandas as pd\n",
    "import matplotlib.pyplot as plp\n",
    "import numpy as np\n",
    "import seaborn as sns"
   ]
  },
  {
   "cell_type": "code",
   "execution_count": 2,
   "metadata": {},
   "outputs": [],
   "source": [
    "spotify = pd.read_csv('D://Юля/spotify/spotify_dataset.csv')"
   ]
  },
  {
   "cell_type": "code",
   "execution_count": 3,
   "metadata": {},
   "outputs": [
    {
     "data": {
      "text/html": [
       "<div>\n",
       "<style scoped>\n",
       "    .dataframe tbody tr th:only-of-type {\n",
       "        vertical-align: middle;\n",
       "    }\n",
       "\n",
       "    .dataframe tbody tr th {\n",
       "        vertical-align: top;\n",
       "    }\n",
       "\n",
       "    .dataframe thead th {\n",
       "        text-align: right;\n",
       "    }\n",
       "</style>\n",
       "<table border=\"1\" class=\"dataframe\">\n",
       "  <thead>\n",
       "    <tr style=\"text-align: right;\">\n",
       "      <th></th>\n",
       "      <th>Index</th>\n",
       "      <th>Highest Charting Position</th>\n",
       "      <th>Number of Times Charted</th>\n",
       "      <th>Week of Highest Charting</th>\n",
       "      <th>Song Name</th>\n",
       "      <th>Streams</th>\n",
       "      <th>Artist</th>\n",
       "      <th>Artist Followers</th>\n",
       "      <th>Song ID</th>\n",
       "      <th>Genre</th>\n",
       "      <th>...</th>\n",
       "      <th>Danceability</th>\n",
       "      <th>Energy</th>\n",
       "      <th>Loudness</th>\n",
       "      <th>Speechiness</th>\n",
       "      <th>Acousticness</th>\n",
       "      <th>Liveness</th>\n",
       "      <th>Tempo</th>\n",
       "      <th>Duration (ms)</th>\n",
       "      <th>Valence</th>\n",
       "      <th>Chord</th>\n",
       "    </tr>\n",
       "  </thead>\n",
       "  <tbody>\n",
       "    <tr>\n",
       "      <th>0</th>\n",
       "      <td>1</td>\n",
       "      <td>1</td>\n",
       "      <td>8</td>\n",
       "      <td>2021-07-23--2021-07-30</td>\n",
       "      <td>Beggin'</td>\n",
       "      <td>48,633,449</td>\n",
       "      <td>Måneskin</td>\n",
       "      <td>3377762</td>\n",
       "      <td>3Wrjm47oTz2sjIgck11l5e</td>\n",
       "      <td>['indie rock italiano', 'italian pop']</td>\n",
       "      <td>...</td>\n",
       "      <td>0.714</td>\n",
       "      <td>0.8</td>\n",
       "      <td>-4.808</td>\n",
       "      <td>0.0504</td>\n",
       "      <td>0.127</td>\n",
       "      <td>0.359</td>\n",
       "      <td>134.002</td>\n",
       "      <td>211560</td>\n",
       "      <td>0.589</td>\n",
       "      <td>B</td>\n",
       "    </tr>\n",
       "    <tr>\n",
       "      <th>1</th>\n",
       "      <td>2</td>\n",
       "      <td>2</td>\n",
       "      <td>3</td>\n",
       "      <td>2021-07-23--2021-07-30</td>\n",
       "      <td>STAY (with Justin Bieber)</td>\n",
       "      <td>47,248,719</td>\n",
       "      <td>The Kid LAROI</td>\n",
       "      <td>2230022</td>\n",
       "      <td>5HCyWlXZPP0y6Gqq8TgA20</td>\n",
       "      <td>['australian hip hop']</td>\n",
       "      <td>...</td>\n",
       "      <td>0.591</td>\n",
       "      <td>0.764</td>\n",
       "      <td>-5.484</td>\n",
       "      <td>0.0483</td>\n",
       "      <td>0.0383</td>\n",
       "      <td>0.103</td>\n",
       "      <td>169.928</td>\n",
       "      <td>141806</td>\n",
       "      <td>0.478</td>\n",
       "      <td>C#/Db</td>\n",
       "    </tr>\n",
       "    <tr>\n",
       "      <th>2</th>\n",
       "      <td>3</td>\n",
       "      <td>1</td>\n",
       "      <td>11</td>\n",
       "      <td>2021-06-25--2021-07-02</td>\n",
       "      <td>good 4 u</td>\n",
       "      <td>40,162,559</td>\n",
       "      <td>Olivia Rodrigo</td>\n",
       "      <td>6266514</td>\n",
       "      <td>4ZtFanR9U6ndgddUvNcjcG</td>\n",
       "      <td>['pop']</td>\n",
       "      <td>...</td>\n",
       "      <td>0.563</td>\n",
       "      <td>0.664</td>\n",
       "      <td>-5.044</td>\n",
       "      <td>0.154</td>\n",
       "      <td>0.335</td>\n",
       "      <td>0.0849</td>\n",
       "      <td>166.928</td>\n",
       "      <td>178147</td>\n",
       "      <td>0.688</td>\n",
       "      <td>A</td>\n",
       "    </tr>\n",
       "    <tr>\n",
       "      <th>3</th>\n",
       "      <td>4</td>\n",
       "      <td>3</td>\n",
       "      <td>5</td>\n",
       "      <td>2021-07-02--2021-07-09</td>\n",
       "      <td>Bad Habits</td>\n",
       "      <td>37,799,456</td>\n",
       "      <td>Ed Sheeran</td>\n",
       "      <td>83293380</td>\n",
       "      <td>6PQ88X9TkUIAUIZJHW2upE</td>\n",
       "      <td>['pop', 'uk pop']</td>\n",
       "      <td>...</td>\n",
       "      <td>0.808</td>\n",
       "      <td>0.897</td>\n",
       "      <td>-3.712</td>\n",
       "      <td>0.0348</td>\n",
       "      <td>0.0469</td>\n",
       "      <td>0.364</td>\n",
       "      <td>126.026</td>\n",
       "      <td>231041</td>\n",
       "      <td>0.591</td>\n",
       "      <td>B</td>\n",
       "    </tr>\n",
       "    <tr>\n",
       "      <th>4</th>\n",
       "      <td>5</td>\n",
       "      <td>5</td>\n",
       "      <td>1</td>\n",
       "      <td>2021-07-23--2021-07-30</td>\n",
       "      <td>INDUSTRY BABY (feat. Jack Harlow)</td>\n",
       "      <td>33,948,454</td>\n",
       "      <td>Lil Nas X</td>\n",
       "      <td>5473565</td>\n",
       "      <td>27NovPIUIRrOZoCHxABJwK</td>\n",
       "      <td>['lgbtq+ hip hop', 'pop rap']</td>\n",
       "      <td>...</td>\n",
       "      <td>0.736</td>\n",
       "      <td>0.704</td>\n",
       "      <td>-7.409</td>\n",
       "      <td>0.0615</td>\n",
       "      <td>0.0203</td>\n",
       "      <td>0.0501</td>\n",
       "      <td>149.995</td>\n",
       "      <td>212000</td>\n",
       "      <td>0.894</td>\n",
       "      <td>D#/Eb</td>\n",
       "    </tr>\n",
       "  </tbody>\n",
       "</table>\n",
       "<p>5 rows × 23 columns</p>\n",
       "</div>"
      ],
      "text/plain": [
       "   Index  Highest Charting Position  Number of Times Charted  \\\n",
       "0      1                          1                        8   \n",
       "1      2                          2                        3   \n",
       "2      3                          1                       11   \n",
       "3      4                          3                        5   \n",
       "4      5                          5                        1   \n",
       "\n",
       "  Week of Highest Charting                          Song Name     Streams  \\\n",
       "0   2021-07-23--2021-07-30                            Beggin'  48,633,449   \n",
       "1   2021-07-23--2021-07-30          STAY (with Justin Bieber)  47,248,719   \n",
       "2   2021-06-25--2021-07-02                           good 4 u  40,162,559   \n",
       "3   2021-07-02--2021-07-09                         Bad Habits  37,799,456   \n",
       "4   2021-07-23--2021-07-30  INDUSTRY BABY (feat. Jack Harlow)  33,948,454   \n",
       "\n",
       "           Artist Artist Followers                 Song ID  \\\n",
       "0        Måneskin          3377762  3Wrjm47oTz2sjIgck11l5e   \n",
       "1   The Kid LAROI          2230022  5HCyWlXZPP0y6Gqq8TgA20   \n",
       "2  Olivia Rodrigo          6266514  4ZtFanR9U6ndgddUvNcjcG   \n",
       "3      Ed Sheeran         83293380  6PQ88X9TkUIAUIZJHW2upE   \n",
       "4       Lil Nas X          5473565  27NovPIUIRrOZoCHxABJwK   \n",
       "\n",
       "                                    Genre  ... Danceability Energy Loudness  \\\n",
       "0  ['indie rock italiano', 'italian pop']  ...        0.714    0.8   -4.808   \n",
       "1                  ['australian hip hop']  ...        0.591  0.764   -5.484   \n",
       "2                                 ['pop']  ...        0.563  0.664   -5.044   \n",
       "3                       ['pop', 'uk pop']  ...        0.808  0.897   -3.712   \n",
       "4           ['lgbtq+ hip hop', 'pop rap']  ...        0.736  0.704   -7.409   \n",
       "\n",
       "  Speechiness Acousticness Liveness    Tempo Duration (ms) Valence  Chord  \n",
       "0      0.0504        0.127    0.359  134.002        211560   0.589      B  \n",
       "1      0.0483       0.0383    0.103  169.928        141806   0.478  C#/Db  \n",
       "2       0.154        0.335   0.0849  166.928        178147   0.688      A  \n",
       "3      0.0348       0.0469    0.364  126.026        231041   0.591      B  \n",
       "4      0.0615       0.0203   0.0501  149.995        212000   0.894  D#/Eb  \n",
       "\n",
       "[5 rows x 23 columns]"
      ]
     },
     "execution_count": 3,
     "metadata": {},
     "output_type": "execute_result"
    }
   ],
   "source": [
    "spotify.head()"
   ]
  },
  {
   "cell_type": "code",
   "execution_count": 4,
   "metadata": {},
   "outputs": [
    {
     "name": "stdout",
     "output_type": "stream",
     "text": [
      "<class 'pandas.core.frame.DataFrame'>\n",
      "RangeIndex: 1556 entries, 0 to 1555\n",
      "Data columns (total 23 columns):\n",
      " #   Column                     Non-Null Count  Dtype \n",
      "---  ------                     --------------  ----- \n",
      " 0   Index                      1556 non-null   int64 \n",
      " 1   Highest Charting Position  1556 non-null   int64 \n",
      " 2   Number of Times Charted    1556 non-null   int64 \n",
      " 3   Week of Highest Charting   1556 non-null   object\n",
      " 4   Song Name                  1556 non-null   object\n",
      " 5   Streams                    1556 non-null   object\n",
      " 6   Artist                     1556 non-null   object\n",
      " 7   Artist Followers           1556 non-null   object\n",
      " 8   Song ID                    1556 non-null   object\n",
      " 9   Genre                      1556 non-null   object\n",
      " 10  Release Date               1556 non-null   object\n",
      " 11  Weeks Charted              1556 non-null   object\n",
      " 12  Popularity                 1556 non-null   object\n",
      " 13  Danceability               1556 non-null   object\n",
      " 14  Energy                     1556 non-null   object\n",
      " 15  Loudness                   1556 non-null   object\n",
      " 16  Speechiness                1556 non-null   object\n",
      " 17  Acousticness               1556 non-null   object\n",
      " 18  Liveness                   1556 non-null   object\n",
      " 19  Tempo                      1556 non-null   object\n",
      " 20  Duration (ms)              1556 non-null   object\n",
      " 21  Valence                    1556 non-null   object\n",
      " 22  Chord                      1556 non-null   object\n",
      "dtypes: int64(3), object(20)\n",
      "memory usage: 158.1+ KB\n"
     ]
    }
   ],
   "source": [
    "spotify.info()"
   ]
  },
  {
   "cell_type": "code",
   "execution_count": 5,
   "metadata": {},
   "outputs": [
    {
     "data": {
      "text/plain": [
       "Index(['Index', 'Highest Charting Position', 'Number of Times Charted',\n",
       "       'Week of Highest Charting', 'Song Name', 'Streams', 'Artist',\n",
       "       'Artist Followers', 'Song ID', 'Genre', 'Release Date', 'Weeks Charted',\n",
       "       'Popularity', 'Danceability', 'Energy', 'Loudness', 'Speechiness',\n",
       "       'Acousticness', 'Liveness', 'Tempo', 'Duration (ms)', 'Valence',\n",
       "       'Chord'],\n",
       "      dtype='object')"
      ]
     },
     "execution_count": 5,
     "metadata": {},
     "output_type": "execute_result"
    }
   ],
   "source": [
    "spotify.columns"
   ]
  },
  {
   "cell_type": "code",
   "execution_count": 6,
   "metadata": {},
   "outputs": [
    {
     "data": {
      "text/plain": [
       "(1556, 23)"
      ]
     },
     "execution_count": 6,
     "metadata": {},
     "output_type": "execute_result"
    }
   ],
   "source": [
    "spotify.shape"
   ]
  },
  {
   "cell_type": "code",
   "execution_count": 7,
   "metadata": {},
   "outputs": [
    {
     "data": {
      "text/html": [
       "<div>\n",
       "<style scoped>\n",
       "    .dataframe tbody tr th:only-of-type {\n",
       "        vertical-align: middle;\n",
       "    }\n",
       "\n",
       "    .dataframe tbody tr th {\n",
       "        vertical-align: top;\n",
       "    }\n",
       "\n",
       "    .dataframe thead th {\n",
       "        text-align: right;\n",
       "    }\n",
       "</style>\n",
       "<table border=\"1\" class=\"dataframe\">\n",
       "  <thead>\n",
       "    <tr style=\"text-align: right;\">\n",
       "      <th></th>\n",
       "      <th>Index</th>\n",
       "      <th>Highest Charting Position</th>\n",
       "      <th>Number of Times Charted</th>\n",
       "    </tr>\n",
       "  </thead>\n",
       "  <tbody>\n",
       "    <tr>\n",
       "      <th>count</th>\n",
       "      <td>1556.000000</td>\n",
       "      <td>1556.000000</td>\n",
       "      <td>1556.000000</td>\n",
       "    </tr>\n",
       "    <tr>\n",
       "      <th>mean</th>\n",
       "      <td>778.500000</td>\n",
       "      <td>87.744216</td>\n",
       "      <td>10.668380</td>\n",
       "    </tr>\n",
       "    <tr>\n",
       "      <th>std</th>\n",
       "      <td>449.322824</td>\n",
       "      <td>58.147225</td>\n",
       "      <td>16.360546</td>\n",
       "    </tr>\n",
       "    <tr>\n",
       "      <th>min</th>\n",
       "      <td>1.000000</td>\n",
       "      <td>1.000000</td>\n",
       "      <td>1.000000</td>\n",
       "    </tr>\n",
       "    <tr>\n",
       "      <th>25%</th>\n",
       "      <td>389.750000</td>\n",
       "      <td>37.000000</td>\n",
       "      <td>1.000000</td>\n",
       "    </tr>\n",
       "    <tr>\n",
       "      <th>50%</th>\n",
       "      <td>778.500000</td>\n",
       "      <td>80.000000</td>\n",
       "      <td>4.000000</td>\n",
       "    </tr>\n",
       "    <tr>\n",
       "      <th>75%</th>\n",
       "      <td>1167.250000</td>\n",
       "      <td>137.000000</td>\n",
       "      <td>12.000000</td>\n",
       "    </tr>\n",
       "    <tr>\n",
       "      <th>max</th>\n",
       "      <td>1556.000000</td>\n",
       "      <td>200.000000</td>\n",
       "      <td>142.000000</td>\n",
       "    </tr>\n",
       "  </tbody>\n",
       "</table>\n",
       "</div>"
      ],
      "text/plain": [
       "             Index  Highest Charting Position  Number of Times Charted\n",
       "count  1556.000000                1556.000000              1556.000000\n",
       "mean    778.500000                  87.744216                10.668380\n",
       "std     449.322824                  58.147225                16.360546\n",
       "min       1.000000                   1.000000                 1.000000\n",
       "25%     389.750000                  37.000000                 1.000000\n",
       "50%     778.500000                  80.000000                 4.000000\n",
       "75%    1167.250000                 137.000000                12.000000\n",
       "max    1556.000000                 200.000000               142.000000"
      ]
     },
     "execution_count": 7,
     "metadata": {},
     "output_type": "execute_result"
    }
   ],
   "source": [
    "spotify.describe()"
   ]
  },
  {
   "cell_type": "markdown",
   "metadata": {},
   "source": [
    "# Primary checks and data cleaning"
   ]
  },
  {
   "cell_type": "markdown",
   "metadata": {},
   "source": [
    "# Сhecking for empty values"
   ]
  },
  {
   "cell_type": "code",
   "execution_count": 8,
   "metadata": {},
   "outputs": [
    {
     "data": {
      "text/plain": [
       "Index                        0\n",
       "Highest Charting Position    0\n",
       "Number of Times Charted      0\n",
       "Week of Highest Charting     0\n",
       "Song Name                    0\n",
       "Streams                      0\n",
       "Artist                       0\n",
       "Artist Followers             0\n",
       "Song ID                      0\n",
       "Genre                        0\n",
       "Release Date                 0\n",
       "Weeks Charted                0\n",
       "Popularity                   0\n",
       "Danceability                 0\n",
       "Energy                       0\n",
       "Loudness                     0\n",
       "Speechiness                  0\n",
       "Acousticness                 0\n",
       "Liveness                     0\n",
       "Tempo                        0\n",
       "Duration (ms)                0\n",
       "Valence                      0\n",
       "Chord                        0\n",
       "dtype: int64"
      ]
     },
     "execution_count": 8,
     "metadata": {},
     "output_type": "execute_result"
    }
   ],
   "source": [
    "spotify.isnull().sum()"
   ]
  },
  {
   "cell_type": "markdown",
   "metadata": {},
   "source": [
    "# Finding duplicates"
   ]
  },
  {
   "cell_type": "code",
   "execution_count": 9,
   "metadata": {},
   "outputs": [
    {
     "data": {
      "text/plain": [
       "0"
      ]
     },
     "execution_count": 9,
     "metadata": {},
     "output_type": "execute_result"
    }
   ],
   "source": [
    "spotify.duplicated().sum() "
   ]
  },
  {
   "cell_type": "markdown",
   "metadata": {},
   "source": [
    "# Dropping columns"
   ]
  },
  {
   "cell_type": "code",
   "execution_count": 10,
   "metadata": {},
   "outputs": [
    {
     "data": {
      "text/html": [
       "<div>\n",
       "<style scoped>\n",
       "    .dataframe tbody tr th:only-of-type {\n",
       "        vertical-align: middle;\n",
       "    }\n",
       "\n",
       "    .dataframe tbody tr th {\n",
       "        vertical-align: top;\n",
       "    }\n",
       "\n",
       "    .dataframe thead th {\n",
       "        text-align: right;\n",
       "    }\n",
       "</style>\n",
       "<table border=\"1\" class=\"dataframe\">\n",
       "  <thead>\n",
       "    <tr style=\"text-align: right;\">\n",
       "      <th></th>\n",
       "      <th>Highest Charting Position</th>\n",
       "      <th>Number of Times Charted</th>\n",
       "      <th>Song Name</th>\n",
       "      <th>Streams</th>\n",
       "      <th>Artist</th>\n",
       "      <th>Artist Followers</th>\n",
       "      <th>Popularity</th>\n",
       "    </tr>\n",
       "  </thead>\n",
       "  <tbody>\n",
       "    <tr>\n",
       "      <th>0</th>\n",
       "      <td>1</td>\n",
       "      <td>8</td>\n",
       "      <td>Beggin'</td>\n",
       "      <td>48,633,449</td>\n",
       "      <td>Måneskin</td>\n",
       "      <td>3377762</td>\n",
       "      <td>100</td>\n",
       "    </tr>\n",
       "    <tr>\n",
       "      <th>1</th>\n",
       "      <td>2</td>\n",
       "      <td>3</td>\n",
       "      <td>STAY (with Justin Bieber)</td>\n",
       "      <td>47,248,719</td>\n",
       "      <td>The Kid LAROI</td>\n",
       "      <td>2230022</td>\n",
       "      <td>99</td>\n",
       "    </tr>\n",
       "    <tr>\n",
       "      <th>2</th>\n",
       "      <td>1</td>\n",
       "      <td>11</td>\n",
       "      <td>good 4 u</td>\n",
       "      <td>40,162,559</td>\n",
       "      <td>Olivia Rodrigo</td>\n",
       "      <td>6266514</td>\n",
       "      <td>99</td>\n",
       "    </tr>\n",
       "    <tr>\n",
       "      <th>3</th>\n",
       "      <td>3</td>\n",
       "      <td>5</td>\n",
       "      <td>Bad Habits</td>\n",
       "      <td>37,799,456</td>\n",
       "      <td>Ed Sheeran</td>\n",
       "      <td>83293380</td>\n",
       "      <td>98</td>\n",
       "    </tr>\n",
       "    <tr>\n",
       "      <th>4</th>\n",
       "      <td>5</td>\n",
       "      <td>1</td>\n",
       "      <td>INDUSTRY BABY (feat. Jack Harlow)</td>\n",
       "      <td>33,948,454</td>\n",
       "      <td>Lil Nas X</td>\n",
       "      <td>5473565</td>\n",
       "      <td>96</td>\n",
       "    </tr>\n",
       "  </tbody>\n",
       "</table>\n",
       "</div>"
      ],
      "text/plain": [
       "   Highest Charting Position  Number of Times Charted  \\\n",
       "0                          1                        8   \n",
       "1                          2                        3   \n",
       "2                          1                       11   \n",
       "3                          3                        5   \n",
       "4                          5                        1   \n",
       "\n",
       "                           Song Name     Streams          Artist  \\\n",
       "0                            Beggin'  48,633,449        Måneskin   \n",
       "1          STAY (with Justin Bieber)  47,248,719   The Kid LAROI   \n",
       "2                           good 4 u  40,162,559  Olivia Rodrigo   \n",
       "3                         Bad Habits  37,799,456      Ed Sheeran   \n",
       "4  INDUSTRY BABY (feat. Jack Harlow)  33,948,454       Lil Nas X   \n",
       "\n",
       "  Artist Followers Popularity  \n",
       "0          3377762        100  \n",
       "1          2230022         99  \n",
       "2          6266514         99  \n",
       "3         83293380         98  \n",
       "4          5473565         96  "
      ]
     },
     "execution_count": 10,
     "metadata": {},
     "output_type": "execute_result"
    }
   ],
   "source": [
    "clean_spotify = spotify.drop(columns = ['Index','Weeks Charted','Chord','Release Date',\\\n",
    "                                        'Week of Highest Charting','Song ID', 'Genre', 'Danceability',\\\n",
    "                                        'Energy', 'Loudness', 'Speechiness', 'Acousticness', \\\n",
    "                                        'Liveness', 'Tempo', 'Duration (ms)', 'Valence'],axis=1)\n",
    "clean_spotify.head()"
   ]
  },
  {
   "cell_type": "markdown",
   "metadata": {},
   "source": [
    "# Renaming columns"
   ]
  },
  {
   "cell_type": "code",
   "execution_count": 11,
   "metadata": {},
   "outputs": [
    {
     "data": {
      "text/html": [
       "<div>\n",
       "<style scoped>\n",
       "    .dataframe tbody tr th:only-of-type {\n",
       "        vertical-align: middle;\n",
       "    }\n",
       "\n",
       "    .dataframe tbody tr th {\n",
       "        vertical-align: top;\n",
       "    }\n",
       "\n",
       "    .dataframe thead th {\n",
       "        text-align: right;\n",
       "    }\n",
       "</style>\n",
       "<table border=\"1\" class=\"dataframe\">\n",
       "  <thead>\n",
       "    <tr style=\"text-align: right;\">\n",
       "      <th></th>\n",
       "      <th>highest_charting_position</th>\n",
       "      <th>number_of_times_charted</th>\n",
       "      <th>song_name</th>\n",
       "      <th>streams</th>\n",
       "      <th>artist</th>\n",
       "      <th>artist_followers</th>\n",
       "      <th>popularity</th>\n",
       "    </tr>\n",
       "  </thead>\n",
       "  <tbody>\n",
       "    <tr>\n",
       "      <th>0</th>\n",
       "      <td>1</td>\n",
       "      <td>8</td>\n",
       "      <td>Beggin'</td>\n",
       "      <td>48,633,449</td>\n",
       "      <td>Måneskin</td>\n",
       "      <td>3377762</td>\n",
       "      <td>100</td>\n",
       "    </tr>\n",
       "    <tr>\n",
       "      <th>1</th>\n",
       "      <td>2</td>\n",
       "      <td>3</td>\n",
       "      <td>STAY (with Justin Bieber)</td>\n",
       "      <td>47,248,719</td>\n",
       "      <td>The Kid LAROI</td>\n",
       "      <td>2230022</td>\n",
       "      <td>99</td>\n",
       "    </tr>\n",
       "    <tr>\n",
       "      <th>2</th>\n",
       "      <td>1</td>\n",
       "      <td>11</td>\n",
       "      <td>good 4 u</td>\n",
       "      <td>40,162,559</td>\n",
       "      <td>Olivia Rodrigo</td>\n",
       "      <td>6266514</td>\n",
       "      <td>99</td>\n",
       "    </tr>\n",
       "    <tr>\n",
       "      <th>3</th>\n",
       "      <td>3</td>\n",
       "      <td>5</td>\n",
       "      <td>Bad Habits</td>\n",
       "      <td>37,799,456</td>\n",
       "      <td>Ed Sheeran</td>\n",
       "      <td>83293380</td>\n",
       "      <td>98</td>\n",
       "    </tr>\n",
       "    <tr>\n",
       "      <th>4</th>\n",
       "      <td>5</td>\n",
       "      <td>1</td>\n",
       "      <td>INDUSTRY BABY (feat. Jack Harlow)</td>\n",
       "      <td>33,948,454</td>\n",
       "      <td>Lil Nas X</td>\n",
       "      <td>5473565</td>\n",
       "      <td>96</td>\n",
       "    </tr>\n",
       "  </tbody>\n",
       "</table>\n",
       "</div>"
      ],
      "text/plain": [
       "   highest_charting_position  number_of_times_charted  \\\n",
       "0                          1                        8   \n",
       "1                          2                        3   \n",
       "2                          1                       11   \n",
       "3                          3                        5   \n",
       "4                          5                        1   \n",
       "\n",
       "                           song_name     streams          artist  \\\n",
       "0                            Beggin'  48,633,449        Måneskin   \n",
       "1          STAY (with Justin Bieber)  47,248,719   The Kid LAROI   \n",
       "2                           good 4 u  40,162,559  Olivia Rodrigo   \n",
       "3                         Bad Habits  37,799,456      Ed Sheeran   \n",
       "4  INDUSTRY BABY (feat. Jack Harlow)  33,948,454       Lil Nas X   \n",
       "\n",
       "  artist_followers popularity  \n",
       "0          3377762        100  \n",
       "1          2230022         99  \n",
       "2          6266514         99  \n",
       "3         83293380         98  \n",
       "4          5473565         96  "
      ]
     },
     "execution_count": 11,
     "metadata": {},
     "output_type": "execute_result"
    }
   ],
   "source": [
    "clean_spotify = clean_spotify.rename(columns = {'Highest Charting Position': 'highest_charting_position', \\\n",
    "                                      'Number of Times Charted': 'number_of_times_charted', \\\n",
    "                                      'Song Name': 'song_name', 'Streams': 'streams', 'Artist': 'artist', \\\n",
    "                                     'Artist Followers': 'artist_followers', 'Popularity': 'popularity'})\n",
    "clean_spotify.head()"
   ]
  },
  {
   "cell_type": "markdown",
   "metadata": {},
   "source": [
    "# Creating function to transform column 'streams' to int"
   ]
  },
  {
   "cell_type": "code",
   "execution_count": 12,
   "metadata": {},
   "outputs": [],
   "source": [
    "def str_to_numm(strnum):\n",
    "    strlist = str(strnum).split(',')\n",
    "    strjoined = \"\"\n",
    "    for each_literal in strlist:\n",
    "        strjoined += each_literal\n",
    "    return (int(strjoined))\n",
    "\n",
    "clean_spotify['streams'] = clean_spotify['streams'].apply(str_to_numm)"
   ]
  },
  {
   "cell_type": "code",
   "execution_count": 13,
   "metadata": {},
   "outputs": [
    {
     "data": {
      "text/plain": [
       "dtype('int64')"
      ]
     },
     "execution_count": 13,
     "metadata": {},
     "output_type": "execute_result"
    }
   ],
   "source": [
    "clean_spotify.streams.dtypes"
   ]
  },
  {
   "cell_type": "markdown",
   "metadata": {},
   "source": [
    "# Finding most streaming song"
   ]
  },
  {
   "cell_type": "code",
   "execution_count": 14,
   "metadata": {},
   "outputs": [
    {
     "data": {
      "text/html": [
       "<div>\n",
       "<style scoped>\n",
       "    .dataframe tbody tr th:only-of-type {\n",
       "        vertical-align: middle;\n",
       "    }\n",
       "\n",
       "    .dataframe tbody tr th {\n",
       "        vertical-align: top;\n",
       "    }\n",
       "\n",
       "    .dataframe thead th {\n",
       "        text-align: right;\n",
       "    }\n",
       "</style>\n",
       "<table border=\"1\" class=\"dataframe\">\n",
       "  <thead>\n",
       "    <tr style=\"text-align: right;\">\n",
       "      <th></th>\n",
       "      <th>highest_charting_position</th>\n",
       "      <th>number_of_times_charted</th>\n",
       "      <th>song_name</th>\n",
       "      <th>streams</th>\n",
       "      <th>artist</th>\n",
       "      <th>artist_followers</th>\n",
       "      <th>popularity</th>\n",
       "    </tr>\n",
       "  </thead>\n",
       "  <tbody>\n",
       "    <tr>\n",
       "      <th>0</th>\n",
       "      <td>1</td>\n",
       "      <td>8</td>\n",
       "      <td>Beggin'</td>\n",
       "      <td>48633449</td>\n",
       "      <td>Måneskin</td>\n",
       "      <td>3377762</td>\n",
       "      <td>100</td>\n",
       "    </tr>\n",
       "  </tbody>\n",
       "</table>\n",
       "</div>"
      ],
      "text/plain": [
       "   highest_charting_position  number_of_times_charted song_name   streams  \\\n",
       "0                          1                        8   Beggin'  48633449   \n",
       "\n",
       "     artist artist_followers popularity  \n",
       "0  Måneskin          3377762        100  "
      ]
     },
     "execution_count": 14,
     "metadata": {},
     "output_type": "execute_result"
    }
   ],
   "source": [
    "clean_spotify.sort_values(['streams'], ascending = False).head(1)"
   ]
  },
  {
   "cell_type": "code",
   "execution_count": 15,
   "metadata": {},
   "outputs": [],
   "source": [
    "# Finding Ed Sheeran's songs with more than 4 million streams"
   ]
  },
  {
   "cell_type": "code",
   "execution_count": 16,
   "metadata": {},
   "outputs": [
    {
     "data": {
      "text/html": [
       "<div>\n",
       "<style scoped>\n",
       "    .dataframe tbody tr th:only-of-type {\n",
       "        vertical-align: middle;\n",
       "    }\n",
       "\n",
       "    .dataframe tbody tr th {\n",
       "        vertical-align: top;\n",
       "    }\n",
       "\n",
       "    .dataframe thead th {\n",
       "        text-align: right;\n",
       "    }\n",
       "</style>\n",
       "<table border=\"1\" class=\"dataframe\">\n",
       "  <thead>\n",
       "    <tr style=\"text-align: right;\">\n",
       "      <th></th>\n",
       "      <th>highest_charting_position</th>\n",
       "      <th>number_of_times_charted</th>\n",
       "      <th>song_name</th>\n",
       "      <th>streams</th>\n",
       "      <th>artist</th>\n",
       "      <th>artist_followers</th>\n",
       "      <th>popularity</th>\n",
       "    </tr>\n",
       "  </thead>\n",
       "  <tbody>\n",
       "    <tr>\n",
       "      <th>3</th>\n",
       "      <td>3</td>\n",
       "      <td>5</td>\n",
       "      <td>Bad Habits</td>\n",
       "      <td>37799456</td>\n",
       "      <td>Ed Sheeran</td>\n",
       "      <td>83293380</td>\n",
       "      <td>98</td>\n",
       "    </tr>\n",
       "    <tr>\n",
       "      <th>116</th>\n",
       "      <td>80</td>\n",
       "      <td>80</td>\n",
       "      <td>Shape of You</td>\n",
       "      <td>6452492</td>\n",
       "      <td>Ed Sheeran</td>\n",
       "      <td>83293380</td>\n",
       "      <td>85</td>\n",
       "    </tr>\n",
       "    <tr>\n",
       "      <th>119</th>\n",
       "      <td>99</td>\n",
       "      <td>83</td>\n",
       "      <td>Perfect</td>\n",
       "      <td>6278765</td>\n",
       "      <td>Ed Sheeran</td>\n",
       "      <td>83293380</td>\n",
       "      <td>86</td>\n",
       "    </tr>\n",
       "    <tr>\n",
       "      <th>426</th>\n",
       "      <td>18</td>\n",
       "      <td>18</td>\n",
       "      <td>Afterglow</td>\n",
       "      <td>4965330</td>\n",
       "      <td>Ed Sheeran</td>\n",
       "      <td>1250353</td>\n",
       "      <td>0</td>\n",
       "    </tr>\n",
       "    <tr>\n",
       "      <th>529</th>\n",
       "      <td>176</td>\n",
       "      <td>9</td>\n",
       "      <td>Photograph</td>\n",
       "      <td>4974880</td>\n",
       "      <td>Ed Sheeran</td>\n",
       "      <td>83337783</td>\n",
       "      <td>83</td>\n",
       "    </tr>\n",
       "    <tr>\n",
       "      <th>541</th>\n",
       "      <td>28</td>\n",
       "      <td>57</td>\n",
       "      <td>I Don't Care (with Justin Bieber)</td>\n",
       "      <td>4984399</td>\n",
       "      <td>Ed Sheeran</td>\n",
       "      <td>83337783</td>\n",
       "      <td>80</td>\n",
       "    </tr>\n",
       "    <tr>\n",
       "      <th>548</th>\n",
       "      <td>182</td>\n",
       "      <td>6</td>\n",
       "      <td>Thinking out Loud</td>\n",
       "      <td>4995623</td>\n",
       "      <td>Ed Sheeran</td>\n",
       "      <td>83337783</td>\n",
       "      <td>82</td>\n",
       "    </tr>\n",
       "    <tr>\n",
       "      <th>800</th>\n",
       "      <td>30</td>\n",
       "      <td>45</td>\n",
       "      <td>Beautiful People (feat. Khalid)</td>\n",
       "      <td>4813796</td>\n",
       "      <td>Ed Sheeran</td>\n",
       "      <td>83337783</td>\n",
       "      <td>79</td>\n",
       "    </tr>\n",
       "    <tr>\n",
       "      <th>1349</th>\n",
       "      <td>41</td>\n",
       "      <td>11</td>\n",
       "      <td>South of the Border (feat. Camila Cabello &amp; Ca...</td>\n",
       "      <td>5315827</td>\n",
       "      <td>Ed Sheeran</td>\n",
       "      <td>83337783</td>\n",
       "      <td>77</td>\n",
       "    </tr>\n",
       "  </tbody>\n",
       "</table>\n",
       "</div>"
      ],
      "text/plain": [
       "      highest_charting_position  number_of_times_charted  \\\n",
       "3                             3                        5   \n",
       "116                          80                       80   \n",
       "119                          99                       83   \n",
       "426                          18                       18   \n",
       "529                         176                        9   \n",
       "541                          28                       57   \n",
       "548                         182                        6   \n",
       "800                          30                       45   \n",
       "1349                         41                       11   \n",
       "\n",
       "                                              song_name   streams      artist  \\\n",
       "3                                            Bad Habits  37799456  Ed Sheeran   \n",
       "116                                        Shape of You   6452492  Ed Sheeran   \n",
       "119                                             Perfect   6278765  Ed Sheeran   \n",
       "426                                           Afterglow   4965330  Ed Sheeran   \n",
       "529                                          Photograph   4974880  Ed Sheeran   \n",
       "541                   I Don't Care (with Justin Bieber)   4984399  Ed Sheeran   \n",
       "548                                   Thinking out Loud   4995623  Ed Sheeran   \n",
       "800                     Beautiful People (feat. Khalid)   4813796  Ed Sheeran   \n",
       "1349  South of the Border (feat. Camila Cabello & Ca...   5315827  Ed Sheeran   \n",
       "\n",
       "     artist_followers popularity  \n",
       "3            83293380         98  \n",
       "116          83293380         85  \n",
       "119          83293380         86  \n",
       "426           1250353          0  \n",
       "529          83337783         83  \n",
       "541          83337783         80  \n",
       "548          83337783         82  \n",
       "800          83337783         79  \n",
       "1349         83337783         77  "
      ]
     },
     "execution_count": 16,
     "metadata": {},
     "output_type": "execute_result"
    }
   ],
   "source": [
    "ed_sheeran = clean_spotify.query(\"streams > 4000000  & artist == 'Ed Sheeran'\")\n",
    "ed_sheeran"
   ]
  },
  {
   "cell_type": "code",
   "execution_count": 17,
   "metadata": {},
   "outputs": [],
   "source": [
    "# What is Ed Sheeran's max streaming?"
   ]
  },
  {
   "cell_type": "code",
   "execution_count": 18,
   "metadata": {},
   "outputs": [
    {
     "data": {
      "text/plain": [
       "streams    37799456\n",
       "dtype: int64"
      ]
     },
     "execution_count": 18,
     "metadata": {},
     "output_type": "execute_result"
    }
   ],
   "source": [
    "ed_sheeran.agg({'streams': 'max'})"
   ]
  },
  {
   "cell_type": "code",
   "execution_count": 19,
   "metadata": {},
   "outputs": [
    {
     "data": {
      "text/plain": [
       "<seaborn.axisgrid.FacetGrid at 0xafcee20>"
      ]
     },
     "execution_count": 19,
     "metadata": {},
     "output_type": "execute_result"
    },
    {
     "data": {
      "image/png": "[encoded data removed]",
      "text/plain": [
       "<Figure size 655.875x360 with 1 Axes>"
      ]
     },
     "metadata": {
      "needs_background": "light"
     },
     "output_type": "display_data"
    }
   ],
   "source": [
    "ax=sns.lmplot(x='streams', y='popularity', data=ed_sheeran,  hue='song_name')\n",
    "ax.set_xlabels('Streams')\n",
    "ax.set_ylabels('Popularity')"
   ]
  },
  {
   "cell_type": "code",
   "execution_count": 20,
   "metadata": {},
   "outputs": [],
   "source": [
    "# Creating function to transform columns 'popularity' and 'artist_followers' to float"
   ]
  },
  {
   "cell_type": "code",
   "execution_count": 21,
   "metadata": {},
   "outputs": [],
   "source": [
    "def func(col_name):\n",
    "    x=pd.Series(col_name)\n",
    "    y=pd.to_numeric(x, errors='coerce')\n",
    "    return y"
   ]
  },
  {
   "cell_type": "code",
   "execution_count": 22,
   "metadata": {},
   "outputs": [],
   "source": [
    "clean_spotify['popularity'] = clean_spotify['popularity'].apply(func)"
   ]
  },
  {
   "cell_type": "code",
   "execution_count": 23,
   "metadata": {},
   "outputs": [],
   "source": [
    "clean_spotify['artist_followers'] = clean_spotify['artist_followers'].apply(func)"
   ]
  },
  {
   "cell_type": "code",
   "execution_count": 24,
   "metadata": {},
   "outputs": [
    {
     "data": {
      "text/plain": [
       "highest_charting_position      int64\n",
       "number_of_times_charted        int64\n",
       "song_name                     object\n",
       "streams                        int64\n",
       "artist                        object\n",
       "artist_followers             float64\n",
       "popularity                   float64\n",
       "dtype: object"
      ]
     },
     "execution_count": 24,
     "metadata": {},
     "output_type": "execute_result"
    }
   ],
   "source": [
    "clean_spotify.dtypes"
   ]
  },
  {
   "cell_type": "code",
   "execution_count": 25,
   "metadata": {},
   "outputs": [
    {
     "data": {
      "text/html": [
       "<div>\n",
       "<style scoped>\n",
       "    .dataframe tbody tr th:only-of-type {\n",
       "        vertical-align: middle;\n",
       "    }\n",
       "\n",
       "    .dataframe tbody tr th {\n",
       "        vertical-align: top;\n",
       "    }\n",
       "\n",
       "    .dataframe thead th {\n",
       "        text-align: right;\n",
       "    }\n",
       "</style>\n",
       "<table border=\"1\" class=\"dataframe\">\n",
       "  <thead>\n",
       "    <tr style=\"text-align: right;\">\n",
       "      <th></th>\n",
       "      <th>highest_charting_position</th>\n",
       "      <th>number_of_times_charted</th>\n",
       "      <th>song_name</th>\n",
       "      <th>streams</th>\n",
       "      <th>artist</th>\n",
       "      <th>artist_followers</th>\n",
       "      <th>popularity</th>\n",
       "    </tr>\n",
       "  </thead>\n",
       "  <tbody>\n",
       "    <tr>\n",
       "      <th>0</th>\n",
       "      <td>1</td>\n",
       "      <td>8</td>\n",
       "      <td>Beggin'</td>\n",
       "      <td>48633449</td>\n",
       "      <td>Måneskin</td>\n",
       "      <td>3377762.0</td>\n",
       "      <td>100.0</td>\n",
       "    </tr>\n",
       "    <tr>\n",
       "      <th>1</th>\n",
       "      <td>2</td>\n",
       "      <td>3</td>\n",
       "      <td>STAY (with Justin Bieber)</td>\n",
       "      <td>47248719</td>\n",
       "      <td>The Kid LAROI</td>\n",
       "      <td>2230022.0</td>\n",
       "      <td>99.0</td>\n",
       "    </tr>\n",
       "    <tr>\n",
       "      <th>2</th>\n",
       "      <td>1</td>\n",
       "      <td>11</td>\n",
       "      <td>good 4 u</td>\n",
       "      <td>40162559</td>\n",
       "      <td>Olivia Rodrigo</td>\n",
       "      <td>6266514.0</td>\n",
       "      <td>99.0</td>\n",
       "    </tr>\n",
       "    <tr>\n",
       "      <th>3</th>\n",
       "      <td>3</td>\n",
       "      <td>5</td>\n",
       "      <td>Bad Habits</td>\n",
       "      <td>37799456</td>\n",
       "      <td>Ed Sheeran</td>\n",
       "      <td>83293380.0</td>\n",
       "      <td>98.0</td>\n",
       "    </tr>\n",
       "    <tr>\n",
       "      <th>4</th>\n",
       "      <td>5</td>\n",
       "      <td>1</td>\n",
       "      <td>INDUSTRY BABY (feat. Jack Harlow)</td>\n",
       "      <td>33948454</td>\n",
       "      <td>Lil Nas X</td>\n",
       "      <td>5473565.0</td>\n",
       "      <td>96.0</td>\n",
       "    </tr>\n",
       "  </tbody>\n",
       "</table>\n",
       "</div>"
      ],
      "text/plain": [
       "   highest_charting_position  number_of_times_charted  \\\n",
       "0                          1                        8   \n",
       "1                          2                        3   \n",
       "2                          1                       11   \n",
       "3                          3                        5   \n",
       "4                          5                        1   \n",
       "\n",
       "                           song_name   streams          artist  \\\n",
       "0                            Beggin'  48633449        Måneskin   \n",
       "1          STAY (with Justin Bieber)  47248719   The Kid LAROI   \n",
       "2                           good 4 u  40162559  Olivia Rodrigo   \n",
       "3                         Bad Habits  37799456      Ed Sheeran   \n",
       "4  INDUSTRY BABY (feat. Jack Harlow)  33948454       Lil Nas X   \n",
       "\n",
       "   artist_followers  popularity  \n",
       "0         3377762.0       100.0  \n",
       "1         2230022.0        99.0  \n",
       "2         6266514.0        99.0  \n",
       "3        83293380.0        98.0  \n",
       "4         5473565.0        96.0  "
      ]
     },
     "execution_count": 25,
     "metadata": {},
     "output_type": "execute_result"
    }
   ],
   "source": [
    "clean_spotify.head()"
   ]
  },
  {
   "cell_type": "markdown",
   "metadata": {},
   "source": [
    "## Who and how many times occupied the highest position in the Spotify Top 200 Weekly Global Charts "
   ]
  },
  {
   "cell_type": "code",
   "execution_count": 26,
   "metadata": {},
   "outputs": [],
   "source": [
    "sum_highest_position = pd.DataFrame(clean_spotify.groupby('artist', as_index = False)['highest_charting_position'].sum())"
   ]
  },
  {
   "cell_type": "code",
   "execution_count": 27,
   "metadata": {},
   "outputs": [
    {
     "data": {
      "text/html": [
       "<div>\n",
       "<style scoped>\n",
       "    .dataframe tbody tr th:only-of-type {\n",
       "        vertical-align: middle;\n",
       "    }\n",
       "\n",
       "    .dataframe tbody tr th {\n",
       "        vertical-align: top;\n",
       "    }\n",
       "\n",
       "    .dataframe thead th {\n",
       "        text-align: right;\n",
       "    }\n",
       "</style>\n",
       "<table border=\"1\" class=\"dataframe\">\n",
       "  <thead>\n",
       "    <tr style=\"text-align: right;\">\n",
       "      <th></th>\n",
       "      <th>artist</th>\n",
       "      <th>highest_charting_position</th>\n",
       "    </tr>\n",
       "  </thead>\n",
       "  <tbody>\n",
       "    <tr>\n",
       "      <th>639</th>\n",
       "      <td>Taylor Swift</td>\n",
       "      <td>3175</td>\n",
       "    </tr>\n",
       "    <tr>\n",
       "      <th>390</th>\n",
       "      <td>Lil Uzi Vert</td>\n",
       "      <td>2874</td>\n",
       "    </tr>\n",
       "    <tr>\n",
       "      <th>534</th>\n",
       "      <td>Pop Smoke</td>\n",
       "      <td>2420</td>\n",
       "    </tr>\n",
       "    <tr>\n",
       "      <th>319</th>\n",
       "      <td>Justin Bieber</td>\n",
       "      <td>1891</td>\n",
       "    </tr>\n",
       "    <tr>\n",
       "      <th>315</th>\n",
       "      <td>Juice WRLD</td>\n",
       "      <td>1755</td>\n",
       "    </tr>\n",
       "    <tr>\n",
       "      <th>213</th>\n",
       "      <td>Eminem</td>\n",
       "      <td>1716</td>\n",
       "    </tr>\n",
       "    <tr>\n",
       "      <th>601</th>\n",
       "      <td>Selena Gomez</td>\n",
       "      <td>1588</td>\n",
       "    </tr>\n",
       "    <tr>\n",
       "      <th>54</th>\n",
       "      <td>BTS</td>\n",
       "      <td>1481</td>\n",
       "    </tr>\n",
       "    <tr>\n",
       "      <th>354</th>\n",
       "      <td>Kid Cudi</td>\n",
       "      <td>1402</td>\n",
       "    </tr>\n",
       "    <tr>\n",
       "      <th>167</th>\n",
       "      <td>DaBaby</td>\n",
       "      <td>1293</td>\n",
       "    </tr>\n",
       "  </tbody>\n",
       "</table>\n",
       "</div>"
      ],
      "text/plain": [
       "            artist  highest_charting_position\n",
       "639   Taylor Swift                       3175\n",
       "390   Lil Uzi Vert                       2874\n",
       "534      Pop Smoke                       2420\n",
       "319  Justin Bieber                       1891\n",
       "315     Juice WRLD                       1755\n",
       "213         Eminem                       1716\n",
       "601   Selena Gomez                       1588\n",
       "54             BTS                       1481\n",
       "354       Kid Cudi                       1402\n",
       "167         DaBaby                       1293"
      ]
     },
     "execution_count": 27,
     "metadata": {},
     "output_type": "execute_result"
    }
   ],
   "source": [
    "sum_highest_position.sort_values(['highest_charting_position'], ascending = False).head(10)"
   ]
  }
 ],
 "metadata": {
  "kernelspec": {
   "display_name": "Python 3",
   "language": "python",
   "name": "python3"
  },
  "language_info": {
   "codemirror_mode": {
    "name": "ipython",
    "version": 3
   },
   "file_extension": ".py",
   "mimetype": "text/x-python",
   "name": "python",
   "nbconvert_exporter": "python",
   "pygments_lexer": "ipython3",
   "version": "3.8.5"
  }
 },
 "nbformat": 4,
 "nbformat_minor": 4
}
