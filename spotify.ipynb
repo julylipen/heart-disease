{
 "cells": [
  {
   "cell_type": "code",
   "execution_count": 1,
   "metadata": {},
   "outputs": [],
   "source": [
    "import pandas as pd\n",
    "import matplotlib.pyplot as plt\n",
    "import numpy as np\n",
    "import seaborn as sns"
   ]
  },
  {
   "cell_type": "code",
   "execution_count": 2,
   "metadata": {},
   "outputs": [],
   "source": [
    "spotify = pd.read_csv('~spotify_dataset.csv')"
   ]
  },
  {
   "cell_type": "markdown",
   "metadata": {},
   "source": [
    "# 1. Exploratory Data Analysis\n",
    "1.1. Primary checks and data cleaning"
   ]
  },
  {
   "cell_type": "code",
   "execution_count": 3,
   "metadata": {},
   "outputs": [
    {
     "data": {
      "text/html": [
       "<div>\n",
       "<style scoped>\n",
       "    .dataframe tbody tr th:only-of-type {\n",
       "        vertical-align: middle;\n",
       "    }\n",
       "\n",
       "    .dataframe tbody tr th {\n",
       "        vertical-align: top;\n",
       "    }\n",
       "\n",
       "    .dataframe thead th {\n",
       "        text-align: right;\n",
       "    }\n",
       "</style>\n",
       "<table border=\"1\" class=\"dataframe\">\n",
       "  <thead>\n",
       "    <tr style=\"text-align: right;\">\n",
       "      <th></th>\n",
       "      <th>Index</th>\n",
       "      <th>Highest Charting Position</th>\n",
       "      <th>Number of Times Charted</th>\n",
       "      <th>Week of Highest Charting</th>\n",
       "      <th>Song Name</th>\n",
       "      <th>Streams</th>\n",
       "      <th>Artist</th>\n",
       "      <th>Artist Followers</th>\n",
       "      <th>Song ID</th>\n",
       "      <th>Genre</th>\n",
       "      <th>...</th>\n",
       "      <th>Danceability</th>\n",
       "      <th>Energy</th>\n",
       "      <th>Loudness</th>\n",
       "      <th>Speechiness</th>\n",
       "      <th>Acousticness</th>\n",
       "      <th>Liveness</th>\n",
       "      <th>Tempo</th>\n",
       "      <th>Duration (ms)</th>\n",
       "      <th>Valence</th>\n",
       "      <th>Chord</th>\n",
       "    </tr>\n",
       "  </thead>\n",
       "  <tbody>\n",
       "    <tr>\n",
       "      <th>0</th>\n",
       "      <td>1</td>\n",
       "      <td>1</td>\n",
       "      <td>8</td>\n",
       "      <td>2021-07-23--2021-07-30</td>\n",
       "      <td>Beggin'</td>\n",
       "      <td>48,633,449</td>\n",
       "      <td>Måneskin</td>\n",
       "      <td>3377762</td>\n",
       "      <td>3Wrjm47oTz2sjIgck11l5e</td>\n",
       "      <td>['indie rock italiano', 'italian pop']</td>\n",
       "      <td>...</td>\n",
       "      <td>0.714</td>\n",
       "      <td>0.8</td>\n",
       "      <td>-4.808</td>\n",
       "      <td>0.0504</td>\n",
       "      <td>0.127</td>\n",
       "      <td>0.359</td>\n",
       "      <td>134.002</td>\n",
       "      <td>211560</td>\n",
       "      <td>0.589</td>\n",
       "      <td>B</td>\n",
       "    </tr>\n",
       "    <tr>\n",
       "      <th>1</th>\n",
       "      <td>2</td>\n",
       "      <td>2</td>\n",
       "      <td>3</td>\n",
       "      <td>2021-07-23--2021-07-30</td>\n",
       "      <td>STAY (with Justin Bieber)</td>\n",
       "      <td>47,248,719</td>\n",
       "      <td>The Kid LAROI</td>\n",
       "      <td>2230022</td>\n",
       "      <td>5HCyWlXZPP0y6Gqq8TgA20</td>\n",
       "      <td>['australian hip hop']</td>\n",
       "      <td>...</td>\n",
       "      <td>0.591</td>\n",
       "      <td>0.764</td>\n",
       "      <td>-5.484</td>\n",
       "      <td>0.0483</td>\n",
       "      <td>0.0383</td>\n",
       "      <td>0.103</td>\n",
       "      <td>169.928</td>\n",
       "      <td>141806</td>\n",
       "      <td>0.478</td>\n",
       "      <td>C#/Db</td>\n",
       "    </tr>\n",
       "    <tr>\n",
       "      <th>2</th>\n",
       "      <td>3</td>\n",
       "      <td>1</td>\n",
       "      <td>11</td>\n",
       "      <td>2021-06-25--2021-07-02</td>\n",
       "      <td>good 4 u</td>\n",
       "      <td>40,162,559</td>\n",
       "      <td>Olivia Rodrigo</td>\n",
       "      <td>6266514</td>\n",
       "      <td>4ZtFanR9U6ndgddUvNcjcG</td>\n",
       "      <td>['pop']</td>\n",
       "      <td>...</td>\n",
       "      <td>0.563</td>\n",
       "      <td>0.664</td>\n",
       "      <td>-5.044</td>\n",
       "      <td>0.154</td>\n",
       "      <td>0.335</td>\n",
       "      <td>0.0849</td>\n",
       "      <td>166.928</td>\n",
       "      <td>178147</td>\n",
       "      <td>0.688</td>\n",
       "      <td>A</td>\n",
       "    </tr>\n",
       "    <tr>\n",
       "      <th>3</th>\n",
       "      <td>4</td>\n",
       "      <td>3</td>\n",
       "      <td>5</td>\n",
       "      <td>2021-07-02--2021-07-09</td>\n",
       "      <td>Bad Habits</td>\n",
       "      <td>37,799,456</td>\n",
       "      <td>Ed Sheeran</td>\n",
       "      <td>83293380</td>\n",
       "      <td>6PQ88X9TkUIAUIZJHW2upE</td>\n",
       "      <td>['pop', 'uk pop']</td>\n",
       "      <td>...</td>\n",
       "      <td>0.808</td>\n",
       "      <td>0.897</td>\n",
       "      <td>-3.712</td>\n",
       "      <td>0.0348</td>\n",
       "      <td>0.0469</td>\n",
       "      <td>0.364</td>\n",
       "      <td>126.026</td>\n",
       "      <td>231041</td>\n",
       "      <td>0.591</td>\n",
       "      <td>B</td>\n",
       "    </tr>\n",
       "    <tr>\n",
       "      <th>4</th>\n",
       "      <td>5</td>\n",
       "      <td>5</td>\n",
       "      <td>1</td>\n",
       "      <td>2021-07-23--2021-07-30</td>\n",
       "      <td>INDUSTRY BABY (feat. Jack Harlow)</td>\n",
       "      <td>33,948,454</td>\n",
       "      <td>Lil Nas X</td>\n",
       "      <td>5473565</td>\n",
       "      <td>27NovPIUIRrOZoCHxABJwK</td>\n",
       "      <td>['lgbtq+ hip hop', 'pop rap']</td>\n",
       "      <td>...</td>\n",
       "      <td>0.736</td>\n",
       "      <td>0.704</td>\n",
       "      <td>-7.409</td>\n",
       "      <td>0.0615</td>\n",
       "      <td>0.0203</td>\n",
       "      <td>0.0501</td>\n",
       "      <td>149.995</td>\n",
       "      <td>212000</td>\n",
       "      <td>0.894</td>\n",
       "      <td>D#/Eb</td>\n",
       "    </tr>\n",
       "  </tbody>\n",
       "</table>\n",
       "<p>5 rows × 23 columns</p>\n",
       "</div>"
      ],
      "text/plain": [
       "   Index  Highest Charting Position  Number of Times Charted  \\\n",
       "0      1                          1                        8   \n",
       "1      2                          2                        3   \n",
       "2      3                          1                       11   \n",
       "3      4                          3                        5   \n",
       "4      5                          5                        1   \n",
       "\n",
       "  Week of Highest Charting                          Song Name     Streams  \\\n",
       "0   2021-07-23--2021-07-30                            Beggin'  48,633,449   \n",
       "1   2021-07-23--2021-07-30          STAY (with Justin Bieber)  47,248,719   \n",
       "2   2021-06-25--2021-07-02                           good 4 u  40,162,559   \n",
       "3   2021-07-02--2021-07-09                         Bad Habits  37,799,456   \n",
       "4   2021-07-23--2021-07-30  INDUSTRY BABY (feat. Jack Harlow)  33,948,454   \n",
       "\n",
       "           Artist Artist Followers                 Song ID  \\\n",
       "0        Måneskin          3377762  3Wrjm47oTz2sjIgck11l5e   \n",
       "1   The Kid LAROI          2230022  5HCyWlXZPP0y6Gqq8TgA20   \n",
       "2  Olivia Rodrigo          6266514  4ZtFanR9U6ndgddUvNcjcG   \n",
       "3      Ed Sheeran         83293380  6PQ88X9TkUIAUIZJHW2upE   \n",
       "4       Lil Nas X          5473565  27NovPIUIRrOZoCHxABJwK   \n",
       "\n",
       "                                    Genre  ... Danceability Energy Loudness  \\\n",
       "0  ['indie rock italiano', 'italian pop']  ...        0.714    0.8   -4.808   \n",
       "1                  ['australian hip hop']  ...        0.591  0.764   -5.484   \n",
       "2                                 ['pop']  ...        0.563  0.664   -5.044   \n",
       "3                       ['pop', 'uk pop']  ...        0.808  0.897   -3.712   \n",
       "4           ['lgbtq+ hip hop', 'pop rap']  ...        0.736  0.704   -7.409   \n",
       "\n",
       "  Speechiness Acousticness Liveness    Tempo Duration (ms) Valence  Chord  \n",
       "0      0.0504        0.127    0.359  134.002        211560   0.589      B  \n",
       "1      0.0483       0.0383    0.103  169.928        141806   0.478  C#/Db  \n",
       "2       0.154        0.335   0.0849  166.928        178147   0.688      A  \n",
       "3      0.0348       0.0469    0.364  126.026        231041   0.591      B  \n",
       "4      0.0615       0.0203   0.0501  149.995        212000   0.894  D#/Eb  \n",
       "\n",
       "[5 rows x 23 columns]"
      ]
     },
     "execution_count": 3,
     "metadata": {},
     "output_type": "execute_result"
    }
   ],
   "source": [
    "spotify.head()"
   ]
  },
  {
   "cell_type": "markdown",
   "metadata": {},
   "source": [
    "Highest Charting Position: The highest position that the song has been on in the Spotify Top 200 Weekly Global Charts in 2020 & 2021.\\\n",
    "Number of Times Charted: The number of times that the song has been on in the Spotify Top 200 Weekly Global Charts in 2020 & 2021.\\\n",
    "Week of Highest Charting: The week when the song had the Highest Position in the Spotify Top 200 Weekly Global Charts in 2020 & 2021.\\\n",
    "Song Name: Name of the song that has been on in the Spotify Top 200 Weekly Global Charts in 2020 & 2021.\\\n",
    "Song iD: The song ID provided by Spotify (unique to each song).\\\n",
    "Streams: Approximate number of streams the song has.\\\n",
    "Artist: The main artist/ artists involved in making the song.\\\n",
    "Artist Followers: The number of followers the main artist has on Spotify.\\\n",
    "Genre: The genres the song belongs to.\\\n",
    "Release Date: The initial date that the song was released.\\\n",
    "Weeks Charted: The weeks that the song has been on in the Spotify Top 200 Weekly Global Charts in 2020 & 2021.\\\n",
    "Popularity:The popularity of the track. The value will be between 0 and 100, with 100 being the most popular.\\\n",
    "Danceability: Danceability describes how suitable a track is for dancing based on a combination of musical elements including tempo, rhythm stability, beat strength, and overall regularity. A value of 0.0 is least danceable and 1.0 is most danceable.\\\n",
    "Acousticness: A measure from 0.0 to 1.0 of whether the track is acoustic.\\\n",
    "Energy: Energy is a measure from 0.0 to 1.0 and represents a perceptual measure of intensity and activity. Typically, energetic tracks feel fast, loud, and noisy.\\\n",
    "Instrumentalness: Predicts whether a track contains no vocals. The closer the instrumentalness value is to 1.0, the greater likelihood the track contains no vocal content.\\\n",
    "Liveness: Detects the presence of an audience in the recording. Higher liveness values represent an increased probability that the track was performed live.\\\n",
    "Loudness: The overall loudness of a track in decibels (dB). Loudness values are averaged across the entire track. Values typical range between -60 and 0 db.\\\n",
    "Speechiness: Speechiness detects the presence of spoken words in a track. The more exclusively speech-like the recording (e.g. talk show, audio book, poetry), the closer to 1.0 the attribute value.\\\n",
    "Tempo: The overall estimated tempo of a track in beats per minute (BPM). In musical terminology, tempo is the speed or pace of a given piece and derives directly from the average beat duration.\\\n",
    "Valence: A measure from 0.0 to 1.0 describing the musical positiveness conveyed by a track. Tracks with high valence sound more positive (e.g. happy, cheerful, euphoric), while tracks with low valence sound more negative (e.g. sad, depressed, angry).\\\n",
    "Chord: The main chord of the song instrumental."
   ]
  },
  {
   "cell_type": "code",
   "execution_count": 4,
   "metadata": {},
   "outputs": [
    {
     "name": "stdout",
     "output_type": "stream",
     "text": [
      "<class 'pandas.core.frame.DataFrame'>\n",
      "RangeIndex: 1556 entries, 0 to 1555\n",
      "Data columns (total 23 columns):\n",
      " #   Column                     Non-Null Count  Dtype \n",
      "---  ------                     --------------  ----- \n",
      " 0   Index                      1556 non-null   int64 \n",
      " 1   Highest Charting Position  1556 non-null   int64 \n",
      " 2   Number of Times Charted    1556 non-null   int64 \n",
      " 3   Week of Highest Charting   1556 non-null   object\n",
      " 4   Song Name                  1556 non-null   object\n",
      " 5   Streams                    1556 non-null   object\n",
      " 6   Artist                     1556 non-null   object\n",
      " 7   Artist Followers           1556 non-null   object\n",
      " 8   Song ID                    1556 non-null   object\n",
      " 9   Genre                      1556 non-null   object\n",
      " 10  Release Date               1556 non-null   object\n",
      " 11  Weeks Charted              1556 non-null   object\n",
      " 12  Popularity                 1556 non-null   object\n",
      " 13  Danceability               1556 non-null   object\n",
      " 14  Energy                     1556 non-null   object\n",
      " 15  Loudness                   1556 non-null   object\n",
      " 16  Speechiness                1556 non-null   object\n",
      " 17  Acousticness               1556 non-null   object\n",
      " 18  Liveness                   1556 non-null   object\n",
      " 19  Tempo                      1556 non-null   object\n",
      " 20  Duration (ms)              1556 non-null   object\n",
      " 21  Valence                    1556 non-null   object\n",
      " 22  Chord                      1556 non-null   object\n",
      "dtypes: int64(3), object(20)\n",
      "memory usage: 158.1+ KB\n"
     ]
    }
   ],
   "source": [
    "spotify.info()"
   ]
  },
  {
   "cell_type": "code",
   "execution_count": 5,
   "metadata": {},
   "outputs": [
    {
     "data": {
      "text/plain": [
       "Index(['Index', 'Highest Charting Position', 'Number of Times Charted',\n",
       "       'Week of Highest Charting', 'Song Name', 'Streams', 'Artist',\n",
       "       'Artist Followers', 'Song ID', 'Genre', 'Release Date', 'Weeks Charted',\n",
       "       'Popularity', 'Danceability', 'Energy', 'Loudness', 'Speechiness',\n",
       "       'Acousticness', 'Liveness', 'Tempo', 'Duration (ms)', 'Valence',\n",
       "       'Chord'],\n",
       "      dtype='object')"
      ]
     },
     "execution_count": 5,
     "metadata": {},
     "output_type": "execute_result"
    }
   ],
   "source": [
    "spotify.columns"
   ]
  },
  {
   "cell_type": "code",
   "execution_count": 6,
   "metadata": {},
   "outputs": [
    {
     "data": {
      "text/plain": [
       "(1556, 23)"
      ]
     },
     "execution_count": 6,
     "metadata": {},
     "output_type": "execute_result"
    }
   ],
   "source": [
    "spotify.shape"
   ]
  },
  {
   "cell_type": "markdown",
   "metadata": {},
   "source": [
    "Сhecking for empty values"
   ]
  },
  {
   "cell_type": "code",
   "execution_count": 7,
   "metadata": {},
   "outputs": [
    {
     "data": {
      "text/plain": [
       "Index                        0\n",
       "Highest Charting Position    0\n",
       "Number of Times Charted      0\n",
       "Week of Highest Charting     0\n",
       "Song Name                    0\n",
       "Streams                      0\n",
       "Artist                       0\n",
       "Artist Followers             0\n",
       "Song ID                      0\n",
       "Genre                        0\n",
       "Release Date                 0\n",
       "Weeks Charted                0\n",
       "Popularity                   0\n",
       "Danceability                 0\n",
       "Energy                       0\n",
       "Loudness                     0\n",
       "Speechiness                  0\n",
       "Acousticness                 0\n",
       "Liveness                     0\n",
       "Tempo                        0\n",
       "Duration (ms)                0\n",
       "Valence                      0\n",
       "Chord                        0\n",
       "dtype: int64"
      ]
     },
     "execution_count": 7,
     "metadata": {},
     "output_type": "execute_result"
    }
   ],
   "source": [
    "spotify.isnull().sum()"
   ]
  },
  {
   "cell_type": "markdown",
   "metadata": {},
   "source": [
    "Finding duplicates"
   ]
  },
  {
   "cell_type": "code",
   "execution_count": 8,
   "metadata": {},
   "outputs": [
    {
     "data": {
      "text/plain": [
       "0"
      ]
     },
     "execution_count": 8,
     "metadata": {},
     "output_type": "execute_result"
    }
   ],
   "source": [
    "spotify.duplicated().sum() "
   ]
  },
  {
   "cell_type": "markdown",
   "metadata": {},
   "source": [
    "Dropping columns"
   ]
  },
  {
   "cell_type": "code",
   "execution_count": 9,
   "metadata": {},
   "outputs": [],
   "source": [
    "spotify.dropna(inplace=True)"
   ]
  },
  {
   "cell_type": "code",
   "execution_count": 10,
   "metadata": {},
   "outputs": [],
   "source": [
    "clean_spotify = spotify.drop(columns = ['Index','Weeks Charted','Chord','Release Date',\\\n",
    "                                        'Week of Highest Charting','Song ID', 'Genre'],axis=1)"
   ]
  },
  {
   "cell_type": "markdown",
   "metadata": {},
   "source": [
    "Changing types of columns"
   ]
  },
  {
   "cell_type": "code",
   "execution_count": 11,
   "metadata": {},
   "outputs": [],
   "source": [
    "clean_spotify['Streams'] = clean_spotify['Streams'].replace(',','', regex=True)\n",
    "clean_spotify['Streams'] = clean_spotify['Streams'].astype('int32')"
   ]
  },
  {
   "cell_type": "code",
   "execution_count": 12,
   "metadata": {},
   "outputs": [],
   "source": [
    "object_cols = ['Danceability','Energy','Loudness','Speechiness','Acousticness','Liveness',\\\n",
    "               'Tempo','Valence','Artist Followers','Popularity','Duration (ms)']"
   ]
  },
  {
   "cell_type": "code",
   "execution_count": 13,
   "metadata": {},
   "outputs": [
    {
     "name": "stdout",
     "output_type": "stream",
     "text": [
      "<class 'pandas.core.frame.DataFrame'>\n",
      "Int64Index: 1556 entries, 0 to 1555\n",
      "Data columns (total 16 columns):\n",
      " #   Column                     Non-Null Count  Dtype  \n",
      "---  ------                     --------------  -----  \n",
      " 0   Highest Charting Position  1556 non-null   int64  \n",
      " 1   Number of Times Charted    1556 non-null   int64  \n",
      " 2   Song Name                  1556 non-null   object \n",
      " 3   Streams                    1556 non-null   int32  \n",
      " 4   Artist                     1556 non-null   object \n",
      " 5   Artist Followers           1545 non-null   float64\n",
      " 6   Popularity                 1545 non-null   float64\n",
      " 7   Danceability               1545 non-null   float64\n",
      " 8   Energy                     1545 non-null   float64\n",
      " 9   Loudness                   1545 non-null   float64\n",
      " 10  Speechiness                1545 non-null   float64\n",
      " 11  Acousticness               1545 non-null   float64\n",
      " 12  Liveness                   1545 non-null   float64\n",
      " 13  Tempo                      1545 non-null   float64\n",
      " 14  Duration (ms)              1545 non-null   float64\n",
      " 15  Valence                    1545 non-null   float64\n",
      "dtypes: float64(11), int32(1), int64(2), object(2)\n",
      "memory usage: 188.4+ KB\n"
     ]
    }
   ],
   "source": [
    "for each_col in object_cols:\n",
    "    clean_spotify[each_col] = pd.to_numeric(clean_spotify[each_col], errors='coerce')\n",
    "\n",
    "clean_spotify.info()"
   ]
  },
  {
   "cell_type": "markdown",
   "metadata": {},
   "source": [
    "Renaming columns"
   ]
  },
  {
   "cell_type": "code",
   "execution_count": 14,
   "metadata": {},
   "outputs": [
    {
     "data": {
      "text/html": [
       "<div>\n",
       "<style scoped>\n",
       "    .dataframe tbody tr th:only-of-type {\n",
       "        vertical-align: middle;\n",
       "    }\n",
       "\n",
       "    .dataframe tbody tr th {\n",
       "        vertical-align: top;\n",
       "    }\n",
       "\n",
       "    .dataframe thead th {\n",
       "        text-align: right;\n",
       "    }\n",
       "</style>\n",
       "<table border=\"1\" class=\"dataframe\">\n",
       "  <thead>\n",
       "    <tr style=\"text-align: right;\">\n",
       "      <th></th>\n",
       "      <th>highest_position</th>\n",
       "      <th>number_of_times_charted</th>\n",
       "      <th>song_name</th>\n",
       "      <th>streams</th>\n",
       "      <th>artist</th>\n",
       "      <th>artist_followers</th>\n",
       "      <th>popularity</th>\n",
       "      <th>danceability</th>\n",
       "      <th>energy</th>\n",
       "      <th>loudness</th>\n",
       "      <th>speechiness</th>\n",
       "      <th>acousticness</th>\n",
       "      <th>liveness</th>\n",
       "      <th>tempo</th>\n",
       "      <th>duration</th>\n",
       "      <th>valence</th>\n",
       "    </tr>\n",
       "  </thead>\n",
       "  <tbody>\n",
       "    <tr>\n",
       "      <th>0</th>\n",
       "      <td>1</td>\n",
       "      <td>8</td>\n",
       "      <td>Beggin'</td>\n",
       "      <td>48633449</td>\n",
       "      <td>Måneskin</td>\n",
       "      <td>3377762.0</td>\n",
       "      <td>100.0</td>\n",
       "      <td>0.714</td>\n",
       "      <td>0.800</td>\n",
       "      <td>-4.808</td>\n",
       "      <td>0.0504</td>\n",
       "      <td>0.1270</td>\n",
       "      <td>0.3590</td>\n",
       "      <td>134.002</td>\n",
       "      <td>211560.0</td>\n",
       "      <td>0.589</td>\n",
       "    </tr>\n",
       "    <tr>\n",
       "      <th>1</th>\n",
       "      <td>2</td>\n",
       "      <td>3</td>\n",
       "      <td>STAY (with Justin Bieber)</td>\n",
       "      <td>47248719</td>\n",
       "      <td>The Kid LAROI</td>\n",
       "      <td>2230022.0</td>\n",
       "      <td>99.0</td>\n",
       "      <td>0.591</td>\n",
       "      <td>0.764</td>\n",
       "      <td>-5.484</td>\n",
       "      <td>0.0483</td>\n",
       "      <td>0.0383</td>\n",
       "      <td>0.1030</td>\n",
       "      <td>169.928</td>\n",
       "      <td>141806.0</td>\n",
       "      <td>0.478</td>\n",
       "    </tr>\n",
       "    <tr>\n",
       "      <th>2</th>\n",
       "      <td>1</td>\n",
       "      <td>11</td>\n",
       "      <td>good 4 u</td>\n",
       "      <td>40162559</td>\n",
       "      <td>Olivia Rodrigo</td>\n",
       "      <td>6266514.0</td>\n",
       "      <td>99.0</td>\n",
       "      <td>0.563</td>\n",
       "      <td>0.664</td>\n",
       "      <td>-5.044</td>\n",
       "      <td>0.1540</td>\n",
       "      <td>0.3350</td>\n",
       "      <td>0.0849</td>\n",
       "      <td>166.928</td>\n",
       "      <td>178147.0</td>\n",
       "      <td>0.688</td>\n",
       "    </tr>\n",
       "    <tr>\n",
       "      <th>3</th>\n",
       "      <td>3</td>\n",
       "      <td>5</td>\n",
       "      <td>Bad Habits</td>\n",
       "      <td>37799456</td>\n",
       "      <td>Ed Sheeran</td>\n",
       "      <td>83293380.0</td>\n",
       "      <td>98.0</td>\n",
       "      <td>0.808</td>\n",
       "      <td>0.897</td>\n",
       "      <td>-3.712</td>\n",
       "      <td>0.0348</td>\n",
       "      <td>0.0469</td>\n",
       "      <td>0.3640</td>\n",
       "      <td>126.026</td>\n",
       "      <td>231041.0</td>\n",
       "      <td>0.591</td>\n",
       "    </tr>\n",
       "    <tr>\n",
       "      <th>4</th>\n",
       "      <td>5</td>\n",
       "      <td>1</td>\n",
       "      <td>INDUSTRY BABY (feat. Jack Harlow)</td>\n",
       "      <td>33948454</td>\n",
       "      <td>Lil Nas X</td>\n",
       "      <td>5473565.0</td>\n",
       "      <td>96.0</td>\n",
       "      <td>0.736</td>\n",
       "      <td>0.704</td>\n",
       "      <td>-7.409</td>\n",
       "      <td>0.0615</td>\n",
       "      <td>0.0203</td>\n",
       "      <td>0.0501</td>\n",
       "      <td>149.995</td>\n",
       "      <td>212000.0</td>\n",
       "      <td>0.894</td>\n",
       "    </tr>\n",
       "  </tbody>\n",
       "</table>\n",
       "</div>"
      ],
      "text/plain": [
       "   highest_position  number_of_times_charted  \\\n",
       "0                 1                        8   \n",
       "1                 2                        3   \n",
       "2                 1                       11   \n",
       "3                 3                        5   \n",
       "4                 5                        1   \n",
       "\n",
       "                           song_name   streams          artist  \\\n",
       "0                            Beggin'  48633449        Måneskin   \n",
       "1          STAY (with Justin Bieber)  47248719   The Kid LAROI   \n",
       "2                           good 4 u  40162559  Olivia Rodrigo   \n",
       "3                         Bad Habits  37799456      Ed Sheeran   \n",
       "4  INDUSTRY BABY (feat. Jack Harlow)  33948454       Lil Nas X   \n",
       "\n",
       "   artist_followers  popularity  danceability  energy  loudness  speechiness  \\\n",
       "0         3377762.0       100.0         0.714   0.800    -4.808       0.0504   \n",
       "1         2230022.0        99.0         0.591   0.764    -5.484       0.0483   \n",
       "2         6266514.0        99.0         0.563   0.664    -5.044       0.1540   \n",
       "3        83293380.0        98.0         0.808   0.897    -3.712       0.0348   \n",
       "4         5473565.0        96.0         0.736   0.704    -7.409       0.0615   \n",
       "\n",
       "   acousticness  liveness    tempo  duration  valence  \n",
       "0        0.1270    0.3590  134.002  211560.0    0.589  \n",
       "1        0.0383    0.1030  169.928  141806.0    0.478  \n",
       "2        0.3350    0.0849  166.928  178147.0    0.688  \n",
       "3        0.0469    0.3640  126.026  231041.0    0.591  \n",
       "4        0.0203    0.0501  149.995  212000.0    0.894  "
      ]
     },
     "execution_count": 14,
     "metadata": {},
     "output_type": "execute_result"
    }
   ],
   "source": [
    "clean_spotify = clean_spotify.rename(columns = {'Highest Charting Position': 'highest_position', \\\n",
    "                                    'Number of Times Charted': 'number_of_times_charted', \\\n",
    "                                    'Song Name': 'song_name', 'Streams': 'streams', 'Artist': 'artist', \\\n",
    "                                    'Artist Followers': 'artist_followers', 'Popularity': 'popularity', \\\n",
    "                                    'Danceability': 'danceability','Energy': 'energy', 'Loudness': 'loudness',\\\n",
    "                                    'Speechiness': 'speechiness', 'Acousticness': 'acousticness', 'Liveness': 'liveness',\\\n",
    "                                    'Tempo': 'tempo', 'Duration (ms)': 'duration', 'Valence': 'valence'})\n",
    "clean_spotify.head()"
   ]
  },
  {
   "cell_type": "markdown",
   "metadata": {},
   "source": [
    "Converting 'Loudness' to postive 30 scale"
   ]
  },
  {
   "cell_type": "code",
   "execution_count": 15,
   "metadata": {},
   "outputs": [
    {
     "data": {
      "text/plain": [
       "0    25.192\n",
       "1    24.516\n",
       "2    24.956\n",
       "3    26.288\n",
       "4    22.591\n",
       "5    23.318\n",
       "6    26.459\n",
       "7    26.395\n",
       "8    25.399\n",
       "9    25.992\n",
       "Name: loudness, dtype: float64"
      ]
     },
     "execution_count": 15,
     "metadata": {},
     "output_type": "execute_result"
    }
   ],
   "source": [
    "clean_spotify['loudness'] = 30 + clean_spotify['loudness']\n",
    "clean_spotify['loudness'].head(10)"
   ]
  },
  {
   "cell_type": "markdown",
   "metadata": {},
   "source": [
    "\n",
    "1.2 Target Variable Analysis"
   ]
  },
  {
   "cell_type": "code",
   "execution_count": 16,
   "metadata": {},
   "outputs": [
    {
     "data": {
      "image/png": "[encoded data removed]",
      "text/plain": [
       "<Figure size 288x72 with 1 Axes>"
      ]
     },
     "metadata": {
      "needs_background": "light"
     },
     "output_type": "display_data"
    }
   ],
   "source": [
    "colors = ['#001c57','#50248f','#a6a6a6','#38d1ff']\n",
    "sns.palplot(sns.color_palette(colors))"
   ]
  },
  {
   "cell_type": "code",
   "execution_count": 17,
   "metadata": {},
   "outputs": [
    {
     "name": "stderr",
     "output_type": "stream",
     "text": [
      "C:\\Users\\anaconda3\\lib\\site-packages\\seaborn\\distributions.py:2551: FutureWarning: `distplot` is a deprecated function and will be removed in a future version. Please adapt your code to use either `displot` (a figure-level function with similar flexibility) or `histplot` (an axes-level function for histograms).\n",
      "  warnings.warn(msg, FutureWarning)\n",
      "C:\\Users\\anaconda3\\lib\\site-packages\\seaborn\\_decorators.py:36: FutureWarning: Pass the following variable as a keyword arg: x. From version 0.12, the only valid positional argument will be `data`, and passing other arguments without an explicit keyword will result in an error or misinterpretation.\n",
      "  warnings.warn(\n"
     ]
    },
    {
     "data": {
      "image/png": "[encoded data removed]",
      "text/plain": [
       "<Figure size 1080x360 with 2 Axes>"
      ]
     },
     "metadata": {
      "needs_background": "light"
     },
     "output_type": "display_data"
    }
   ],
   "source": [
    "plt.figure(figsize=(15,5))\n",
    "plt.subplot(121)\n",
    "sns.distplot(clean_spotify.streams.values/1000000, bins=50, color=colors[1])\n",
    "plt.title('Distribution of the target variable - streams\\n',fontsize=15)\n",
    "plt.xlabel('Value in millions'); plt.ylabel('Frequency');\n",
    "\n",
    "plt.subplot(122)\n",
    "sns.boxplot(clean_spotify.streams.values/1000000, color=colors[3])\n",
    "plt.title('Distribution of the target variable - streams\\n',fontsize=15)\n",
    "plt.xlabel('Value in millions'); "
   ]
  },
  {
   "cell_type": "code",
   "execution_count": 18,
   "metadata": {},
   "outputs": [
    {
     "data": {
      "text/plain": [
       "count    1556.000000\n",
       "mean        6.340219\n",
       "std         3.369479\n",
       "min         4.176083\n",
       "25%         4.915322\n",
       "50%         5.275747\n",
       "75%         6.455044\n",
       "max        48.633449\n",
       "Name: streams, dtype: float64"
      ]
     },
     "execution_count": 18,
     "metadata": {},
     "output_type": "execute_result"
    }
   ],
   "source": [
    "(clean_spotify.streams/1000000).describe()"
   ]
  },
  {
   "cell_type": "markdown",
   "metadata": {},
   "source": [
    "The target variable has a standard distribution of about 4 to 17 million. The first and third quartiles range from about 5 to 6.5 million, the mean is 6 million."
   ]
  },
  {
   "cell_type": "markdown",
   "metadata": {},
   "source": [
    "Top streaming artists"
   ]
  },
  {
   "cell_type": "code",
   "execution_count": 19,
   "metadata": {},
   "outputs": [
    {
     "data": {
      "text/html": [
       "<div>\n",
       "<style scoped>\n",
       "    .dataframe tbody tr th:only-of-type {\n",
       "        vertical-align: middle;\n",
       "    }\n",
       "\n",
       "    .dataframe tbody tr th {\n",
       "        vertical-align: top;\n",
       "    }\n",
       "\n",
       "    .dataframe thead th {\n",
       "        text-align: right;\n",
       "    }\n",
       "</style>\n",
       "<table border=\"1\" class=\"dataframe\">\n",
       "  <thead>\n",
       "    <tr style=\"text-align: right;\">\n",
       "      <th></th>\n",
       "      <th>highest_position</th>\n",
       "      <th>number_of_times_charted</th>\n",
       "      <th>song_name</th>\n",
       "      <th>streams</th>\n",
       "      <th>artist</th>\n",
       "      <th>artist_followers</th>\n",
       "      <th>popularity</th>\n",
       "      <th>danceability</th>\n",
       "      <th>energy</th>\n",
       "      <th>loudness</th>\n",
       "      <th>speechiness</th>\n",
       "      <th>acousticness</th>\n",
       "      <th>liveness</th>\n",
       "      <th>tempo</th>\n",
       "      <th>duration</th>\n",
       "      <th>valence</th>\n",
       "    </tr>\n",
       "  </thead>\n",
       "  <tbody>\n",
       "    <tr>\n",
       "      <th>0</th>\n",
       "      <td>1</td>\n",
       "      <td>8</td>\n",
       "      <td>Beggin'</td>\n",
       "      <td>48633449</td>\n",
       "      <td>Måneskin</td>\n",
       "      <td>3377762.0</td>\n",
       "      <td>100.0</td>\n",
       "      <td>0.714</td>\n",
       "      <td>0.8</td>\n",
       "      <td>25.192</td>\n",
       "      <td>0.0504</td>\n",
       "      <td>0.127</td>\n",
       "      <td>0.359</td>\n",
       "      <td>134.002</td>\n",
       "      <td>211560.0</td>\n",
       "      <td>0.589</td>\n",
       "    </tr>\n",
       "  </tbody>\n",
       "</table>\n",
       "</div>"
      ],
      "text/plain": [
       "   highest_position  number_of_times_charted song_name   streams    artist  \\\n",
       "0                 1                        8   Beggin'  48633449  Måneskin   \n",
       "\n",
       "   artist_followers  popularity  danceability  energy  loudness  speechiness  \\\n",
       "0         3377762.0       100.0         0.714     0.8    25.192       0.0504   \n",
       "\n",
       "   acousticness  liveness    tempo  duration  valence  \n",
       "0         0.127     0.359  134.002  211560.0    0.589  "
      ]
     },
     "execution_count": 19,
     "metadata": {},
     "output_type": "execute_result"
    }
   ],
   "source": [
    "clean_spotify.sort_values(['streams'], ascending = False).head(1)"
   ]
  },
  {
   "cell_type": "code",
   "execution_count": 20,
   "metadata": {},
   "outputs": [
    {
     "data": {
      "text/plain": [
       "<AxesSubplot:title={'center':'Top 10 Streamed Artists'}, xlabel='artist', ylabel='streams'>"
      ]
     },
     "execution_count": 20,
     "metadata": {},
     "output_type": "execute_result"
    },
    {
     "data": {
      "image/png": "[encoded data removed]",
      "text/plain": [
       "<Figure size 1008x504 with 1 Axes>"
      ]
     },
     "metadata": {
      "needs_background": "light"
     },
     "output_type": "display_data"
    }
   ],
   "source": [
    "sns.color_palette(\"pastel\")\n",
    "sort_streams=clean_spotify.sort_values(by=['streams'],ascending=False)\n",
    "plt.figure(figsize=(14,7))\n",
    "plt.title('Top 10 Streamed Artists', size=16)\n",
    "sns.barplot(x='artist',y='streams',data=sort_streams.head(10))"
   ]
  },
  {
   "cell_type": "markdown",
   "metadata": {},
   "source": [
    "Top streaming songs"
   ]
  },
  {
   "cell_type": "code",
   "execution_count": 21,
   "metadata": {},
   "outputs": [
    {
     "data": {
      "text/html": [
       "<div>\n",
       "<style scoped>\n",
       "    .dataframe tbody tr th:only-of-type {\n",
       "        vertical-align: middle;\n",
       "    }\n",
       "\n",
       "    .dataframe tbody tr th {\n",
       "        vertical-align: top;\n",
       "    }\n",
       "\n",
       "    .dataframe thead th {\n",
       "        text-align: right;\n",
       "    }\n",
       "</style>\n",
       "<table border=\"1\" class=\"dataframe\">\n",
       "  <thead>\n",
       "    <tr style=\"text-align: right;\">\n",
       "      <th></th>\n",
       "      <th>highest_position</th>\n",
       "      <th>number_of_times_charted</th>\n",
       "      <th>song_name</th>\n",
       "      <th>streams</th>\n",
       "      <th>artist</th>\n",
       "      <th>artist_followers</th>\n",
       "      <th>popularity</th>\n",
       "      <th>danceability</th>\n",
       "      <th>energy</th>\n",
       "      <th>loudness</th>\n",
       "      <th>speechiness</th>\n",
       "      <th>acousticness</th>\n",
       "      <th>liveness</th>\n",
       "      <th>tempo</th>\n",
       "      <th>duration</th>\n",
       "      <th>valence</th>\n",
       "    </tr>\n",
       "  </thead>\n",
       "  <tbody>\n",
       "    <tr>\n",
       "      <th>0</th>\n",
       "      <td>1</td>\n",
       "      <td>8</td>\n",
       "      <td>Beggin'</td>\n",
       "      <td>48633449</td>\n",
       "      <td>Måneskin</td>\n",
       "      <td>3377762.0</td>\n",
       "      <td>100.0</td>\n",
       "      <td>0.714</td>\n",
       "      <td>0.800</td>\n",
       "      <td>25.192</td>\n",
       "      <td>0.0504</td>\n",
       "      <td>0.12700</td>\n",
       "      <td>0.3590</td>\n",
       "      <td>134.002</td>\n",
       "      <td>211560.0</td>\n",
       "      <td>0.589</td>\n",
       "    </tr>\n",
       "    <tr>\n",
       "      <th>2</th>\n",
       "      <td>1</td>\n",
       "      <td>11</td>\n",
       "      <td>good 4 u</td>\n",
       "      <td>40162559</td>\n",
       "      <td>Olivia Rodrigo</td>\n",
       "      <td>6266514.0</td>\n",
       "      <td>99.0</td>\n",
       "      <td>0.563</td>\n",
       "      <td>0.664</td>\n",
       "      <td>24.956</td>\n",
       "      <td>0.1540</td>\n",
       "      <td>0.33500</td>\n",
       "      <td>0.0849</td>\n",
       "      <td>166.928</td>\n",
       "      <td>178147.0</td>\n",
       "      <td>0.688</td>\n",
       "    </tr>\n",
       "    <tr>\n",
       "      <th>5</th>\n",
       "      <td>1</td>\n",
       "      <td>18</td>\n",
       "      <td>MONTERO (Call Me By Your Name)</td>\n",
       "      <td>30071134</td>\n",
       "      <td>Lil Nas X</td>\n",
       "      <td>5473565.0</td>\n",
       "      <td>97.0</td>\n",
       "      <td>0.610</td>\n",
       "      <td>0.508</td>\n",
       "      <td>23.318</td>\n",
       "      <td>0.1520</td>\n",
       "      <td>0.29700</td>\n",
       "      <td>0.3840</td>\n",
       "      <td>178.818</td>\n",
       "      <td>137876.0</td>\n",
       "      <td>0.758</td>\n",
       "    </tr>\n",
       "    <tr>\n",
       "      <th>13</th>\n",
       "      <td>1</td>\n",
       "      <td>19</td>\n",
       "      <td>Peaches (feat. Daniel Caesar &amp; Giveon)</td>\n",
       "      <td>20294457</td>\n",
       "      <td>Justin Bieber</td>\n",
       "      <td>48504126.0</td>\n",
       "      <td>94.0</td>\n",
       "      <td>0.677</td>\n",
       "      <td>0.696</td>\n",
       "      <td>23.819</td>\n",
       "      <td>0.1190</td>\n",
       "      <td>0.32100</td>\n",
       "      <td>0.4200</td>\n",
       "      <td>90.030</td>\n",
       "      <td>198082.0</td>\n",
       "      <td>0.464</td>\n",
       "    </tr>\n",
       "    <tr>\n",
       "      <th>22</th>\n",
       "      <td>1</td>\n",
       "      <td>29</td>\n",
       "      <td>drivers license</td>\n",
       "      <td>15684978</td>\n",
       "      <td>Olivia Rodrigo</td>\n",
       "      <td>6266514.0</td>\n",
       "      <td>92.0</td>\n",
       "      <td>0.561</td>\n",
       "      <td>0.431</td>\n",
       "      <td>21.190</td>\n",
       "      <td>0.0578</td>\n",
       "      <td>0.76800</td>\n",
       "      <td>0.1060</td>\n",
       "      <td>143.875</td>\n",
       "      <td>242013.0</td>\n",
       "      <td>0.137</td>\n",
       "    </tr>\n",
       "    <tr>\n",
       "      <th>24</th>\n",
       "      <td>1</td>\n",
       "      <td>83</td>\n",
       "      <td>Blinding Lights</td>\n",
       "      <td>15011809</td>\n",
       "      <td>The Weeknd</td>\n",
       "      <td>35305637.0</td>\n",
       "      <td>92.0</td>\n",
       "      <td>0.514</td>\n",
       "      <td>0.730</td>\n",
       "      <td>24.066</td>\n",
       "      <td>0.0598</td>\n",
       "      <td>0.00146</td>\n",
       "      <td>0.0897</td>\n",
       "      <td>171.005</td>\n",
       "      <td>200040.0</td>\n",
       "      <td>0.334</td>\n",
       "    </tr>\n",
       "    <tr>\n",
       "      <th>39</th>\n",
       "      <td>1</td>\n",
       "      <td>39</td>\n",
       "      <td>DÁKITI</td>\n",
       "      <td>11524288</td>\n",
       "      <td>Bad Bunny, Jhay Cortez</td>\n",
       "      <td>36142273.0</td>\n",
       "      <td>86.0</td>\n",
       "      <td>0.731</td>\n",
       "      <td>0.573</td>\n",
       "      <td>19.941</td>\n",
       "      <td>0.0544</td>\n",
       "      <td>0.40100</td>\n",
       "      <td>0.1130</td>\n",
       "      <td>109.928</td>\n",
       "      <td>205090.0</td>\n",
       "      <td>0.145</td>\n",
       "    </tr>\n",
       "    <tr>\n",
       "      <th>46</th>\n",
       "      <td>1</td>\n",
       "      <td>51</td>\n",
       "      <td>Mood (feat. iann dior)</td>\n",
       "      <td>10222056</td>\n",
       "      <td>24kGoldn</td>\n",
       "      <td>1274433.0</td>\n",
       "      <td>89.0</td>\n",
       "      <td>0.701</td>\n",
       "      <td>0.716</td>\n",
       "      <td>26.329</td>\n",
       "      <td>0.0361</td>\n",
       "      <td>0.17400</td>\n",
       "      <td>0.3240</td>\n",
       "      <td>91.007</td>\n",
       "      <td>140533.0</td>\n",
       "      <td>0.732</td>\n",
       "    </tr>\n",
       "    <tr>\n",
       "      <th>619</th>\n",
       "      <td>1</td>\n",
       "      <td>10</td>\n",
       "      <td>All I Want for Christmas Is You</td>\n",
       "      <td>23235257</td>\n",
       "      <td>Mariah Carey</td>\n",
       "      <td>6931357.0</td>\n",
       "      <td>65.0</td>\n",
       "      <td>0.336</td>\n",
       "      <td>0.627</td>\n",
       "      <td>22.537</td>\n",
       "      <td>0.0384</td>\n",
       "      <td>0.16400</td>\n",
       "      <td>0.0708</td>\n",
       "      <td>150.273</td>\n",
       "      <td>241107.0</td>\n",
       "      <td>0.350</td>\n",
       "    </tr>\n",
       "  </tbody>\n",
       "</table>\n",
       "</div>"
      ],
      "text/plain": [
       "     highest_position  number_of_times_charted  \\\n",
       "0                   1                        8   \n",
       "2                   1                       11   \n",
       "5                   1                       18   \n",
       "13                  1                       19   \n",
       "22                  1                       29   \n",
       "24                  1                       83   \n",
       "39                  1                       39   \n",
       "46                  1                       51   \n",
       "619                 1                       10   \n",
       "\n",
       "                                  song_name   streams                  artist  \\\n",
       "0                                   Beggin'  48633449                Måneskin   \n",
       "2                                  good 4 u  40162559          Olivia Rodrigo   \n",
       "5            MONTERO (Call Me By Your Name)  30071134               Lil Nas X   \n",
       "13   Peaches (feat. Daniel Caesar & Giveon)  20294457           Justin Bieber   \n",
       "22                          drivers license  15684978          Olivia Rodrigo   \n",
       "24                          Blinding Lights  15011809              The Weeknd   \n",
       "39                                   DÁKITI  11524288  Bad Bunny, Jhay Cortez   \n",
       "46                   Mood (feat. iann dior)  10222056                24kGoldn   \n",
       "619         All I Want for Christmas Is You  23235257            Mariah Carey   \n",
       "\n",
       "     artist_followers  popularity  danceability  energy  loudness  \\\n",
       "0           3377762.0       100.0         0.714   0.800    25.192   \n",
       "2           6266514.0        99.0         0.563   0.664    24.956   \n",
       "5           5473565.0        97.0         0.610   0.508    23.318   \n",
       "13         48504126.0        94.0         0.677   0.696    23.819   \n",
       "22          6266514.0        92.0         0.561   0.431    21.190   \n",
       "24         35305637.0        92.0         0.514   0.730    24.066   \n",
       "39         36142273.0        86.0         0.731   0.573    19.941   \n",
       "46          1274433.0        89.0         0.701   0.716    26.329   \n",
       "619         6931357.0        65.0         0.336   0.627    22.537   \n",
       "\n",
       "     speechiness  acousticness  liveness    tempo  duration  valence  \n",
       "0         0.0504       0.12700    0.3590  134.002  211560.0    0.589  \n",
       "2         0.1540       0.33500    0.0849  166.928  178147.0    0.688  \n",
       "5         0.1520       0.29700    0.3840  178.818  137876.0    0.758  \n",
       "13        0.1190       0.32100    0.4200   90.030  198082.0    0.464  \n",
       "22        0.0578       0.76800    0.1060  143.875  242013.0    0.137  \n",
       "24        0.0598       0.00146    0.0897  171.005  200040.0    0.334  \n",
       "39        0.0544       0.40100    0.1130  109.928  205090.0    0.145  \n",
       "46        0.0361       0.17400    0.3240   91.007  140533.0    0.732  \n",
       "619       0.0384       0.16400    0.0708  150.273  241107.0    0.350  "
      ]
     },
     "execution_count": 21,
     "metadata": {},
     "output_type": "execute_result"
    }
   ],
   "source": [
    "streaming = clean_spotify.query('streams > 10000000 & highest_position <2')\n",
    "streaming"
   ]
  },
  {
   "cell_type": "code",
   "execution_count": 22,
   "metadata": {},
   "outputs": [
    {
     "data": {
      "text/plain": [
       "<seaborn.axisgrid.FacetGrid at 0xa9fa2f8>"
      ]
     },
     "execution_count": 22,
     "metadata": {},
     "output_type": "execute_result"
    },
    {
     "data": {
      "image/png": "[encoded data removed]",
      "text/plain": [
       "<Figure size 665.125x432 with 1 Axes>"
      ]
     },
     "metadata": {
      "needs_background": "light"
     },
     "output_type": "display_data"
    }
   ],
   "source": [
    "ax=sns.lmplot(x='streams', y='popularity', data=streaming,  hue='song_name', height=6)\n",
    "plt.title('Top streaming songs', size=16)\n",
    "ax.set_xlabels('Streams', size=15)\n",
    "ax.set_ylabels('Popularity', size=15)"
   ]
  },
  {
   "cell_type": "markdown",
   "metadata": {},
   "source": [
    "Top artists who occupied the highest position"
   ]
  },
  {
   "cell_type": "code",
   "execution_count": 23,
   "metadata": {},
   "outputs": [],
   "source": [
    "sum_highest_position = pd.DataFrame(clean_spotify.groupby('artist', as_index = False)['highest_position'].sum())"
   ]
  },
  {
   "cell_type": "code",
   "execution_count": 24,
   "metadata": {},
   "outputs": [
    {
     "data": {
      "text/html": [
       "<div>\n",
       "<style scoped>\n",
       "    .dataframe tbody tr th:only-of-type {\n",
       "        vertical-align: middle;\n",
       "    }\n",
       "\n",
       "    .dataframe tbody tr th {\n",
       "        vertical-align: top;\n",
       "    }\n",
       "\n",
       "    .dataframe thead th {\n",
       "        text-align: right;\n",
       "    }\n",
       "</style>\n",
       "<table border=\"1\" class=\"dataframe\">\n",
       "  <thead>\n",
       "    <tr style=\"text-align: right;\">\n",
       "      <th></th>\n",
       "      <th>artist</th>\n",
       "      <th>highest_position</th>\n",
       "    </tr>\n",
       "  </thead>\n",
       "  <tbody>\n",
       "    <tr>\n",
       "      <th>639</th>\n",
       "      <td>Taylor Swift</td>\n",
       "      <td>3175</td>\n",
       "    </tr>\n",
       "    <tr>\n",
       "      <th>390</th>\n",
       "      <td>Lil Uzi Vert</td>\n",
       "      <td>2874</td>\n",
       "    </tr>\n",
       "    <tr>\n",
       "      <th>534</th>\n",
       "      <td>Pop Smoke</td>\n",
       "      <td>2420</td>\n",
       "    </tr>\n",
       "    <tr>\n",
       "      <th>319</th>\n",
       "      <td>Justin Bieber</td>\n",
       "      <td>1891</td>\n",
       "    </tr>\n",
       "    <tr>\n",
       "      <th>315</th>\n",
       "      <td>Juice WRLD</td>\n",
       "      <td>1755</td>\n",
       "    </tr>\n",
       "    <tr>\n",
       "      <th>213</th>\n",
       "      <td>Eminem</td>\n",
       "      <td>1716</td>\n",
       "    </tr>\n",
       "    <tr>\n",
       "      <th>601</th>\n",
       "      <td>Selena Gomez</td>\n",
       "      <td>1588</td>\n",
       "    </tr>\n",
       "    <tr>\n",
       "      <th>54</th>\n",
       "      <td>BTS</td>\n",
       "      <td>1481</td>\n",
       "    </tr>\n",
       "    <tr>\n",
       "      <th>354</th>\n",
       "      <td>Kid Cudi</td>\n",
       "      <td>1402</td>\n",
       "    </tr>\n",
       "    <tr>\n",
       "      <th>167</th>\n",
       "      <td>DaBaby</td>\n",
       "      <td>1293</td>\n",
       "    </tr>\n",
       "  </tbody>\n",
       "</table>\n",
       "</div>"
      ],
      "text/plain": [
       "            artist  highest_position\n",
       "639   Taylor Swift              3175\n",
       "390   Lil Uzi Vert              2874\n",
       "534      Pop Smoke              2420\n",
       "319  Justin Bieber              1891\n",
       "315     Juice WRLD              1755\n",
       "213         Eminem              1716\n",
       "601   Selena Gomez              1588\n",
       "54             BTS              1481\n",
       "354       Kid Cudi              1402\n",
       "167         DaBaby              1293"
      ]
     },
     "execution_count": 24,
     "metadata": {},
     "output_type": "execute_result"
    }
   ],
   "source": [
    "sum_highest_position.sort_values(['highest_position'], ascending = False).head(10)"
   ]
  },
  {
   "cell_type": "code",
   "execution_count": 25,
   "metadata": {},
   "outputs": [
    {
     "data": {
      "image/png": "[encoded data removed]",
      "text/plain": [
       "<Figure size 1440x576 with 1 Axes>"
      ]
     },
     "metadata": {},
     "output_type": "display_data"
    }
   ],
   "source": [
    "sns.set_style('darkgrid')\n",
    "plt.figure(figsize=(20,8))\n",
    "plt.title('Interdependence between Streams and Artist followers',size=16)\n",
    "plt.xlabel('Artist followers',  size=15)\n",
    "plt.ylabel('Streams',size=15)\n",
    "sns.scatterplot(x='artist_followers', y='streams', data=clean_spotify, edgecolor='black', palette='cubehelix')\n",
    "plt.show()"
   ]
  },
  {
   "cell_type": "code",
   "execution_count": 26,
   "metadata": {},
   "outputs": [
    {
     "data": {
      "text/plain": [
       "<seaborn.axisgrid.PairGrid at 0xac90790>"
      ]
     },
     "execution_count": 26,
     "metadata": {},
     "output_type": "execute_result"
    },
    {
     "data": {
      "image/png": "[encoded data removed]",
      "text/plain": [
       "<Figure size 360x360 with 6 Axes>"
      ]
     },
     "metadata": {},
     "output_type": "display_data"
    }
   ],
   "source": [
    "sns.pairplot(clean_spotify.iloc[:, 5:7])"
   ]
  },
  {
   "cell_type": "code",
   "execution_count": 27,
   "metadata": {},
   "outputs": [
    {
     "data": {
      "text/plain": [
       "<AxesSubplot:>"
      ]
     },
     "execution_count": 27,
     "metadata": {},
     "output_type": "execute_result"
    },
    {
     "data": {
      "image/png": "[encoded data removed]",
      "text/plain": [
       "<Figure size 648x504 with 2 Axes>"
      ]
     },
     "metadata": {},
     "output_type": "display_data"
    }
   ],
   "source": [
    "corr = clean_spotify.corr()\n",
    "\n",
    "fig,ax = plt.subplots(figsize=(9,7))\n",
    "sns.heatmap(corr, square=True, annot=True, cmap='YlGn', center=0, vmax=1, fmt='.2f', linewidth=1, linecolor='black')\n",
    "#Among categorical variables, we did not find a direct relationship with the target y"
   ]
  },
  {
   "cell_type": "markdown",
   "metadata": {},
   "source": [
    "Scaling the features"
   ]
  },
  {
   "cell_type": "code",
   "execution_count": 28,
   "metadata": {},
   "outputs": [
    {
     "data": {
      "text/html": [
       "<div>\n",
       "<style scoped>\n",
       "    .dataframe tbody tr th:only-of-type {\n",
       "        vertical-align: middle;\n",
       "    }\n",
       "\n",
       "    .dataframe tbody tr th {\n",
       "        vertical-align: top;\n",
       "    }\n",
       "\n",
       "    .dataframe thead th {\n",
       "        text-align: right;\n",
       "    }\n",
       "</style>\n",
       "<table border=\"1\" class=\"dataframe\">\n",
       "  <thead>\n",
       "    <tr style=\"text-align: right;\">\n",
       "      <th></th>\n",
       "      <th>highest_position</th>\n",
       "      <th>number_of_times_charted</th>\n",
       "      <th>streams</th>\n",
       "      <th>artist_followers</th>\n",
       "      <th>popularity</th>\n",
       "      <th>danceability</th>\n",
       "      <th>energy</th>\n",
       "      <th>loudness</th>\n",
       "      <th>speechiness</th>\n",
       "      <th>acousticness</th>\n",
       "      <th>liveness</th>\n",
       "      <th>tempo</th>\n",
       "      <th>duration</th>\n",
       "      <th>valence</th>\n",
       "    </tr>\n",
       "  </thead>\n",
       "  <tbody>\n",
       "    <tr>\n",
       "      <th>0</th>\n",
       "      <td>-0.79</td>\n",
       "      <td>0.363636</td>\n",
       "      <td>28.159435</td>\n",
       "      <td>-0.168882</td>\n",
       "      <td>1.800000</td>\n",
       "      <td>0.035533</td>\n",
       "      <td>0.718182</td>\n",
       "      <td>0.425180</td>\n",
       "      <td>-0.218593</td>\n",
       "      <td>-0.100147</td>\n",
       "      <td>1.951827</td>\n",
       "      <td>0.261220</td>\n",
       "      <td>0.362015</td>\n",
       "      <td>0.221264</td>\n",
       "    </tr>\n",
       "    <tr>\n",
       "      <th>1</th>\n",
       "      <td>-0.78</td>\n",
       "      <td>-0.090909</td>\n",
       "      <td>27.260097</td>\n",
       "      <td>-0.224665</td>\n",
       "      <td>1.733333</td>\n",
       "      <td>-0.588832</td>\n",
       "      <td>0.554545</td>\n",
       "      <td>0.182014</td>\n",
       "      <td>-0.236181</td>\n",
       "      <td>-0.361414</td>\n",
       "      <td>-0.174419</td>\n",
       "      <td>1.043922</td>\n",
       "      <td>-1.043295</td>\n",
       "      <td>-0.097701</td>\n",
       "    </tr>\n",
       "    <tr>\n",
       "      <th>2</th>\n",
       "      <td>-0.79</td>\n",
       "      <td>0.636364</td>\n",
       "      <td>22.657864</td>\n",
       "      <td>-0.028481</td>\n",
       "      <td>1.733333</td>\n",
       "      <td>-0.730964</td>\n",
       "      <td>0.100000</td>\n",
       "      <td>0.340288</td>\n",
       "      <td>0.649079</td>\n",
       "      <td>0.512518</td>\n",
       "      <td>-0.324751</td>\n",
       "      <td>0.978562</td>\n",
       "      <td>-0.311145</td>\n",
       "      <td>0.505747</td>\n",
       "    </tr>\n",
       "    <tr>\n",
       "      <th>3</th>\n",
       "      <td>-0.77</td>\n",
       "      <td>0.090909</td>\n",
       "      <td>21.123104</td>\n",
       "      <td>3.715228</td>\n",
       "      <td>1.666667</td>\n",
       "      <td>0.512690</td>\n",
       "      <td>1.159091</td>\n",
       "      <td>0.819424</td>\n",
       "      <td>-0.349246</td>\n",
       "      <td>-0.336082</td>\n",
       "      <td>1.993355</td>\n",
       "      <td>0.087451</td>\n",
       "      <td>0.754493</td>\n",
       "      <td>0.227011</td>\n",
       "    </tr>\n",
       "    <tr>\n",
       "      <th>4</th>\n",
       "      <td>-0.75</td>\n",
       "      <td>-0.272727</td>\n",
       "      <td>18.622002</td>\n",
       "      <td>-0.067020</td>\n",
       "      <td>1.533333</td>\n",
       "      <td>0.147208</td>\n",
       "      <td>0.281818</td>\n",
       "      <td>-0.510432</td>\n",
       "      <td>-0.125628</td>\n",
       "      <td>-0.414433</td>\n",
       "      <td>-0.613787</td>\n",
       "      <td>0.609651</td>\n",
       "      <td>0.370880</td>\n",
       "      <td>1.097701</td>\n",
       "    </tr>\n",
       "    <tr>\n",
       "      <th>5</th>\n",
       "      <td>-0.79</td>\n",
       "      <td>1.272727</td>\n",
       "      <td>16.103807</td>\n",
       "      <td>-0.067020</td>\n",
       "      <td>1.600000</td>\n",
       "      <td>-0.492386</td>\n",
       "      <td>-0.609091</td>\n",
       "      <td>-0.248921</td>\n",
       "      <td>0.632328</td>\n",
       "      <td>0.400589</td>\n",
       "      <td>2.159468</td>\n",
       "      <td>1.237603</td>\n",
       "      <td>-1.122472</td>\n",
       "      <td>0.706897</td>\n",
       "    </tr>\n",
       "    <tr>\n",
       "      <th>6</th>\n",
       "      <td>-0.77</td>\n",
       "      <td>1.090909</td>\n",
       "      <td>15.639829</td>\n",
       "      <td>0.086880</td>\n",
       "      <td>1.400000</td>\n",
       "      <td>0.279188</td>\n",
       "      <td>0.268182</td>\n",
       "      <td>0.880935</td>\n",
       "      <td>-0.401173</td>\n",
       "      <td>0.217968</td>\n",
       "      <td>-0.008306</td>\n",
       "      <td>-0.240610</td>\n",
       "      <td>0.307760</td>\n",
       "      <td>0.660920</td>\n",
       "    </tr>\n",
       "    <tr>\n",
       "      <th>7</th>\n",
       "      <td>-0.78</td>\n",
       "      <td>0.545455</td>\n",
       "      <td>14.077779</td>\n",
       "      <td>-0.037517</td>\n",
       "      <td>1.466667</td>\n",
       "      <td>0.370558</td>\n",
       "      <td>0.345455</td>\n",
       "      <td>0.857914</td>\n",
       "      <td>-0.216918</td>\n",
       "      <td>0.438881</td>\n",
       "      <td>-0.255814</td>\n",
       "      <td>0.129346</td>\n",
       "      <td>0.121142</td>\n",
       "      <td>-0.488506</td>\n",
       "    </tr>\n",
       "    <tr>\n",
       "      <th>8</th>\n",
       "      <td>-0.77</td>\n",
       "      <td>0.363636</td>\n",
       "      <td>12.829836</td>\n",
       "      <td>1.423560</td>\n",
       "      <td>1.533333</td>\n",
       "      <td>-0.319797</td>\n",
       "      <td>0.027273</td>\n",
       "      <td>0.499640</td>\n",
       "      <td>0.347571</td>\n",
       "      <td>0.338733</td>\n",
       "      <td>0.091362</td>\n",
       "      <td>1.262288</td>\n",
       "      <td>0.264304</td>\n",
       "      <td>-0.206897</td>\n",
       "    </tr>\n",
       "    <tr>\n",
       "      <th>9</th>\n",
       "      <td>-0.72</td>\n",
       "      <td>0.545455</td>\n",
       "      <td>12.519041</td>\n",
       "      <td>-0.168882</td>\n",
       "      <td>1.466667</td>\n",
       "      <td>0.218274</td>\n",
       "      <td>-0.154545</td>\n",
       "      <td>0.712950</td>\n",
       "      <td>-0.316583</td>\n",
       "      <td>-0.469367</td>\n",
       "      <td>0.448505</td>\n",
       "      <td>0.228649</td>\n",
       "      <td>-0.407849</td>\n",
       "      <td>1.281609</td>\n",
       "    </tr>\n",
       "  </tbody>\n",
       "</table>\n",
       "</div>"
      ],
      "text/plain": [
       "   highest_position  number_of_times_charted    streams  artist_followers  \\\n",
       "0             -0.79                 0.363636  28.159435         -0.168882   \n",
       "1             -0.78                -0.090909  27.260097         -0.224665   \n",
       "2             -0.79                 0.636364  22.657864         -0.028481   \n",
       "3             -0.77                 0.090909  21.123104          3.715228   \n",
       "4             -0.75                -0.272727  18.622002         -0.067020   \n",
       "5             -0.79                 1.272727  16.103807         -0.067020   \n",
       "6             -0.77                 1.090909  15.639829          0.086880   \n",
       "7             -0.78                 0.545455  14.077779         -0.037517   \n",
       "8             -0.77                 0.363636  12.829836          1.423560   \n",
       "9             -0.72                 0.545455  12.519041         -0.168882   \n",
       "\n",
       "   popularity  danceability    energy  loudness  speechiness  acousticness  \\\n",
       "0    1.800000      0.035533  0.718182  0.425180    -0.218593     -0.100147   \n",
       "1    1.733333     -0.588832  0.554545  0.182014    -0.236181     -0.361414   \n",
       "2    1.733333     -0.730964  0.100000  0.340288     0.649079      0.512518   \n",
       "3    1.666667      0.512690  1.159091  0.819424    -0.349246     -0.336082   \n",
       "4    1.533333      0.147208  0.281818 -0.510432    -0.125628     -0.414433   \n",
       "5    1.600000     -0.492386 -0.609091 -0.248921     0.632328      0.400589   \n",
       "6    1.400000      0.279188  0.268182  0.880935    -0.401173      0.217968   \n",
       "7    1.466667      0.370558  0.345455  0.857914    -0.216918      0.438881   \n",
       "8    1.533333     -0.319797  0.027273  0.499640     0.347571      0.338733   \n",
       "9    1.466667      0.218274 -0.154545  0.712950    -0.316583     -0.469367   \n",
       "\n",
       "   liveness     tempo  duration   valence  \n",
       "0  1.951827  0.261220  0.362015  0.221264  \n",
       "1 -0.174419  1.043922 -1.043295 -0.097701  \n",
       "2 -0.324751  0.978562 -0.311145  0.505747  \n",
       "3  1.993355  0.087451  0.754493  0.227011  \n",
       "4 -0.613787  0.609651  0.370880  1.097701  \n",
       "5  2.159468  1.237603 -1.122472  0.706897  \n",
       "6 -0.008306 -0.240610  0.307760  0.660920  \n",
       "7 -0.255814  0.129346  0.121142 -0.488506  \n",
       "8  0.091362  1.262288  0.264304 -0.206897  \n",
       "9  0.448505  0.228649 -0.407849  1.281609  "
      ]
     },
     "execution_count": 28,
     "metadata": {},
     "output_type": "execute_result"
    }
   ],
   "source": [
    "clean_spotify = clean_spotify.drop(columns= ['artist','song_name'], axis=1)\n",
    "from sklearn.preprocessing import RobustScaler\n",
    "\n",
    "scalerr = RobustScaler()\n",
    "scaled_features = scalerr.fit_transform(clean_spotify)\n",
    "\n",
    "clean_spotify = pd.DataFrame(scaled_features, index=clean_spotify.index, columns=clean_spotify.columns)\n",
    "clean_spotify.dropna(inplace=True)\n",
    "clean_spotify.head(10)"
   ]
  },
  {
   "cell_type": "code",
   "execution_count": 29,
   "metadata": {},
   "outputs": [],
   "source": [
    "X = clean_spotify.drop(['streams'], axis = 1)\n",
    "y = clean_spotify.streams"
   ]
  },
  {
   "cell_type": "code",
   "execution_count": 30,
   "metadata": {},
   "outputs": [],
   "source": [
    "from sklearn.model_selection import train_test_split \n",
    "X_train, X_test, y_train, y_test = train_test_split(X, y, test_size = 0.2, random_state = 25)"
   ]
  },
  {
   "cell_type": "markdown",
   "metadata": {},
   "source": [
    "# 2. Linear Regression"
   ]
  },
  {
   "cell_type": "code",
   "execution_count": 31,
   "metadata": {},
   "outputs": [
    {
     "data": {
      "text/plain": [
       "LinearRegression()"
      ]
     },
     "execution_count": 31,
     "metadata": {},
     "output_type": "execute_result"
    }
   ],
   "source": [
    "from sklearn.linear_model import LinearRegression\n",
    "model=LinearRegression()\n",
    "model.fit(X_train,y_train)"
   ]
  },
  {
   "cell_type": "code",
   "execution_count": 32,
   "metadata": {},
   "outputs": [],
   "source": [
    "y_pred = model.predict(X_test)"
   ]
  },
  {
   "cell_type": "code",
   "execution_count": 33,
   "metadata": {},
   "outputs": [
    {
     "data": {
      "text/plain": [
       "0.16235538759678336"
      ]
     },
     "execution_count": 33,
     "metadata": {},
     "output_type": "execute_result"
    }
   ],
   "source": [
    "model.score(X_train,y_train)"
   ]
  },
  {
   "cell_type": "code",
   "execution_count": 34,
   "metadata": {},
   "outputs": [
    {
     "data": {
      "text/plain": [
       "0.15192242254284716"
      ]
     },
     "execution_count": 34,
     "metadata": {},
     "output_type": "execute_result"
    }
   ],
   "source": [
    "model.score(X_test,y_test)"
   ]
  },
  {
   "cell_type": "code",
   "execution_count": 35,
   "metadata": {},
   "outputs": [
    {
     "data": {
      "text/html": [
       "<div>\n",
       "<style scoped>\n",
       "    .dataframe tbody tr th:only-of-type {\n",
       "        vertical-align: middle;\n",
       "    }\n",
       "\n",
       "    .dataframe tbody tr th {\n",
       "        vertical-align: top;\n",
       "    }\n",
       "\n",
       "    .dataframe thead th {\n",
       "        text-align: right;\n",
       "    }\n",
       "</style>\n",
       "<table border=\"1\" class=\"dataframe\">\n",
       "  <thead>\n",
       "    <tr style=\"text-align: right;\">\n",
       "      <th></th>\n",
       "      <th>predictions</th>\n",
       "    </tr>\n",
       "  </thead>\n",
       "  <tbody>\n",
       "    <tr>\n",
       "      <th>0</th>\n",
       "      <td>0.502575</td>\n",
       "    </tr>\n",
       "    <tr>\n",
       "      <th>1</th>\n",
       "      <td>0.127274</td>\n",
       "    </tr>\n",
       "    <tr>\n",
       "      <th>2</th>\n",
       "      <td>-0.801002</td>\n",
       "    </tr>\n",
       "    <tr>\n",
       "      <th>3</th>\n",
       "      <td>2.202059</td>\n",
       "    </tr>\n",
       "    <tr>\n",
       "      <th>4</th>\n",
       "      <td>1.294959</td>\n",
       "    </tr>\n",
       "    <tr>\n",
       "      <th>...</th>\n",
       "      <td>...</td>\n",
       "    </tr>\n",
       "    <tr>\n",
       "      <th>304</th>\n",
       "      <td>1.419792</td>\n",
       "    </tr>\n",
       "    <tr>\n",
       "      <th>305</th>\n",
       "      <td>2.065145</td>\n",
       "    </tr>\n",
       "    <tr>\n",
       "      <th>306</th>\n",
       "      <td>0.501283</td>\n",
       "    </tr>\n",
       "    <tr>\n",
       "      <th>307</th>\n",
       "      <td>0.143165</td>\n",
       "    </tr>\n",
       "    <tr>\n",
       "      <th>308</th>\n",
       "      <td>1.371805</td>\n",
       "    </tr>\n",
       "  </tbody>\n",
       "</table>\n",
       "<p>309 rows × 1 columns</p>\n",
       "</div>"
      ],
      "text/plain": [
       "     predictions\n",
       "0       0.502575\n",
       "1       0.127274\n",
       "2      -0.801002\n",
       "3       2.202059\n",
       "4       1.294959\n",
       "..           ...\n",
       "304     1.419792\n",
       "305     2.065145\n",
       "306     0.501283\n",
       "307     0.143165\n",
       "308     1.371805\n",
       "\n",
       "[309 rows x 1 columns]"
      ]
     },
     "execution_count": 35,
     "metadata": {},
     "output_type": "execute_result"
    }
   ],
   "source": [
    "lr_model=pd.DataFrame(data=y_pred, columns = ['predictions'])\n",
    "lr_model"
   ]
  },
  {
   "cell_type": "markdown",
   "metadata": {},
   "source": [
    "# 3. Random Forest Regression"
   ]
  },
  {
   "cell_type": "code",
   "execution_count": 36,
   "metadata": {},
   "outputs": [
    {
     "data": {
      "text/plain": [
       "0.9744360873806918"
      ]
     },
     "execution_count": 36,
     "metadata": {},
     "output_type": "execute_result"
    }
   ],
   "source": [
    "from sklearn.ensemble import RandomForestRegressor\n",
    "r_model=RandomForestRegressor(n_estimators=50)\n",
    "r_model.fit(X_train,y_train)\n",
    "r_model.score(X_train,y_train)"
   ]
  },
  {
   "cell_type": "code",
   "execution_count": 37,
   "metadata": {},
   "outputs": [
    {
     "data": {
      "text/plain": [
       "0.8443180222428244"
      ]
     },
     "execution_count": 37,
     "metadata": {},
     "output_type": "execute_result"
    }
   ],
   "source": [
    "r_model.score(X_test, y_test)"
   ]
  },
  {
   "cell_type": "code",
   "execution_count": 38,
   "metadata": {},
   "outputs": [],
   "source": [
    "y_pred=r_model.predict(X_test)"
   ]
  },
  {
   "cell_type": "code",
   "execution_count": 39,
   "metadata": {},
   "outputs": [
    {
     "data": {
      "text/html": [
       "<div>\n",
       "<style scoped>\n",
       "    .dataframe tbody tr th:only-of-type {\n",
       "        vertical-align: middle;\n",
       "    }\n",
       "\n",
       "    .dataframe tbody tr th {\n",
       "        vertical-align: top;\n",
       "    }\n",
       "\n",
       "    .dataframe thead th {\n",
       "        text-align: right;\n",
       "    }\n",
       "</style>\n",
       "<table border=\"1\" class=\"dataframe\">\n",
       "  <thead>\n",
       "    <tr style=\"text-align: right;\">\n",
       "      <th></th>\n",
       "      <th>predictions</th>\n",
       "    </tr>\n",
       "  </thead>\n",
       "  <tbody>\n",
       "    <tr>\n",
       "      <th>0</th>\n",
       "      <td>2.229350</td>\n",
       "    </tr>\n",
       "    <tr>\n",
       "      <th>1</th>\n",
       "      <td>-0.184255</td>\n",
       "    </tr>\n",
       "    <tr>\n",
       "      <th>2</th>\n",
       "      <td>0.016776</td>\n",
       "    </tr>\n",
       "    <tr>\n",
       "      <th>3</th>\n",
       "      <td>0.787877</td>\n",
       "    </tr>\n",
       "    <tr>\n",
       "      <th>4</th>\n",
       "      <td>-0.247708</td>\n",
       "    </tr>\n",
       "    <tr>\n",
       "      <th>...</th>\n",
       "      <td>...</td>\n",
       "    </tr>\n",
       "    <tr>\n",
       "      <th>304</th>\n",
       "      <td>0.306632</td>\n",
       "    </tr>\n",
       "    <tr>\n",
       "      <th>305</th>\n",
       "      <td>0.576301</td>\n",
       "    </tr>\n",
       "    <tr>\n",
       "      <th>306</th>\n",
       "      <td>0.692054</td>\n",
       "    </tr>\n",
       "    <tr>\n",
       "      <th>307</th>\n",
       "      <td>-0.060688</td>\n",
       "    </tr>\n",
       "    <tr>\n",
       "      <th>308</th>\n",
       "      <td>0.213944</td>\n",
       "    </tr>\n",
       "  </tbody>\n",
       "</table>\n",
       "<p>309 rows × 1 columns</p>\n",
       "</div>"
      ],
      "text/plain": [
       "     predictions\n",
       "0       2.229350\n",
       "1      -0.184255\n",
       "2       0.016776\n",
       "3       0.787877\n",
       "4      -0.247708\n",
       "..           ...\n",
       "304     0.306632\n",
       "305     0.576301\n",
       "306     0.692054\n",
       "307    -0.060688\n",
       "308     0.213944\n",
       "\n",
       "[309 rows x 1 columns]"
      ]
     },
     "execution_count": 39,
     "metadata": {},
     "output_type": "execute_result"
    }
   ],
   "source": [
    "lr_model=pd.DataFrame(data=y_pred, columns = ['predictions'])\n",
    "lr_model"
   ]
  },
  {
   "cell_type": "code",
   "execution_count": 40,
   "metadata": {},
   "outputs": [
    {
     "data": {
      "text/html": [
       "<div>\n",
       "<style scoped>\n",
       "    .dataframe tbody tr th:only-of-type {\n",
       "        vertical-align: middle;\n",
       "    }\n",
       "\n",
       "    .dataframe tbody tr th {\n",
       "        vertical-align: top;\n",
       "    }\n",
       "\n",
       "    .dataframe thead th {\n",
       "        text-align: right;\n",
       "    }\n",
       "</style>\n",
       "<table border=\"1\" class=\"dataframe\">\n",
       "  <thead>\n",
       "    <tr style=\"text-align: right;\">\n",
       "      <th></th>\n",
       "      <th>feature_importances</th>\n",
       "    </tr>\n",
       "  </thead>\n",
       "  <tbody>\n",
       "    <tr>\n",
       "      <th>highest_position</th>\n",
       "      <td>0.160967</td>\n",
       "    </tr>\n",
       "    <tr>\n",
       "      <th>number_of_times_charted</th>\n",
       "      <td>0.052568</td>\n",
       "    </tr>\n",
       "    <tr>\n",
       "      <th>artist_followers</th>\n",
       "      <td>0.018017</td>\n",
       "    </tr>\n",
       "    <tr>\n",
       "      <th>popularity</th>\n",
       "      <td>0.680420</td>\n",
       "    </tr>\n",
       "    <tr>\n",
       "      <th>danceability</th>\n",
       "      <td>0.010686</td>\n",
       "    </tr>\n",
       "    <tr>\n",
       "      <th>energy</th>\n",
       "      <td>0.004200</td>\n",
       "    </tr>\n",
       "    <tr>\n",
       "      <th>loudness</th>\n",
       "      <td>0.013012</td>\n",
       "    </tr>\n",
       "    <tr>\n",
       "      <th>speechiness</th>\n",
       "      <td>0.014103</td>\n",
       "    </tr>\n",
       "    <tr>\n",
       "      <th>acousticness</th>\n",
       "      <td>0.006712</td>\n",
       "    </tr>\n",
       "    <tr>\n",
       "      <th>liveness</th>\n",
       "      <td>0.006568</td>\n",
       "    </tr>\n",
       "    <tr>\n",
       "      <th>tempo</th>\n",
       "      <td>0.008766</td>\n",
       "    </tr>\n",
       "    <tr>\n",
       "      <th>duration</th>\n",
       "      <td>0.009417</td>\n",
       "    </tr>\n",
       "    <tr>\n",
       "      <th>valence</th>\n",
       "      <td>0.014565</td>\n",
       "    </tr>\n",
       "  </tbody>\n",
       "</table>\n",
       "</div>"
      ],
      "text/plain": [
       "                         feature_importances\n",
       "highest_position                    0.160967\n",
       "number_of_times_charted             0.052568\n",
       "artist_followers                    0.018017\n",
       "popularity                          0.680420\n",
       "danceability                        0.010686\n",
       "energy                              0.004200\n",
       "loudness                            0.013012\n",
       "speechiness                         0.014103\n",
       "acousticness                        0.006712\n",
       "liveness                            0.006568\n",
       "tempo                               0.008766\n",
       "duration                            0.009417\n",
       "valence                             0.014565"
      ]
     },
     "execution_count": 40,
     "metadata": {},
     "output_type": "execute_result"
    }
   ],
   "source": [
    "rf_features=pd.DataFrame(data=r_model.feature_importances_, index=X_train.columns, columns = ['feature_importances'])\n",
    "rf_features"
   ]
  },
  {
   "cell_type": "code",
   "execution_count": 41,
   "metadata": {},
   "outputs": [
    {
     "data": {
      "text/plain": [
       "<AxesSubplot:xlabel='feature_importances'>"
      ]
     },
     "execution_count": 41,
     "metadata": {},
     "output_type": "execute_result"
    },
    {
     "data": {
      "image/png": "[encoded data removed]",
      "text/plain": [
       "<Figure size 648x504 with 1 Axes>"
      ]
     },
     "metadata": {},
     "output_type": "display_data"
    }
   ],
   "source": [
    "fig,ax = plt.subplots(figsize=(9,7))\n",
    "sns.barplot(data=rf_features.sort_values(['feature_importances'], ascending = False), \\\n",
    "            x='feature_importances', y=X_train.columns)"
   ]
  }
 ],
 "metadata": {
  "kernelspec": {
   "display_name": "Python 3",
   "language": "python",
   "name": "python3"
  },
  "language_info": {
   "codemirror_mode": {
    "name": "ipython",
    "version": 3
   },
   "file_extension": ".py",
   "mimetype": "text/x-python",
   "name": "python",
   "nbconvert_exporter": "python",
   "pygments_lexer": "ipython3",
   "version": "3.8.5"
  }
 },
 "nbformat": 4,
 "nbformat_minor": 4
}
